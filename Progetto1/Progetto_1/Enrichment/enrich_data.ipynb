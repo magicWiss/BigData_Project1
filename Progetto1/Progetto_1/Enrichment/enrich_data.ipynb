{
 "cells": [
  {
   "attachments": {},
   "cell_type": "markdown",
   "metadata": {},
   "source": [
    "# Creazione dei dataset per il test di scalabilità\n",
    "### DImensioni ds parametrici rispetto a K\n",
    "### K è [0,2] tale che-> sia DS_o il dataset originale e DS_i sue copie, |DS_i|=K*|DS_i|\n",
    "### K testati sono: K=0.1, 0.3, 0.5, 0.7, 1, 1.3, 1.5, 1.7, 2"
   ]
  },
  {
   "cell_type": "code",
   "execution_count": 1,
   "metadata": {},
   "outputs": [],
   "source": [
    "import pandas as pd\n"
   ]
  },
  {
   "cell_type": "code",
   "execution_count": 16,
   "metadata": {},
   "outputs": [],
   "source": [
    "#metodo di modifica dei dati del dataset\n",
    "#Modifiche effettuate:\n",
    "#1)modifica del time value->acquisizione della data in formato YYYY-MM-DD, modifica del mese, creazione del unix time\n",
    "#2)modifica del text (sostituzione di parole con dei loro sinonimi)\n",
    "from datetime import datetime\n",
    "def create_new_data(time,timeCreation,text):\n",
    "    OUTPUT_FORMAT = '%Y-%m-%d %H:%M:%S'\n",
    "    today_date=datetime.today().now()\n",
    "    out_date_str = today_date.strftime(OUTPUT_FORMAT)\n",
    "    unix=int(today_date.timestamp())\n",
    "    \n",
    "    #testo\n",
    "    synonyms = {\n",
    "    'happy': 'joyful',\n",
    "    'sad': 'unhappy',\n",
    "    'angry': 'mad',\n",
    "    'beautiful': 'pretty',\n",
    "    'ugly': 'unattractive',\n",
    "    'good': 'great',\n",
    "    'bad': 'terrible',\n",
    "    'big': 'large',\n",
    "    'small': 'little',\n",
    "    'funny': 'humorous',\n",
    "    'serious': 'grave',\n",
    "    'fast': 'quick',\n",
    "    'slow': 'unhurried',\n",
    "    'rich': 'wealthy',\n",
    "    'poor': 'needy',\n",
    "    'smart': 'intelligent',\n",
    "    'stupid': 'dumb'\n",
    "    }\n",
    "    for key, value in synonyms.items():\n",
    "        text = text.replace(key, value)\n",
    "    \n",
    "    return [unix,out_date_str,text]\n",
    "\n",
    "    \n",
    "\n",
    "\n",
    "\n",
    "def edit_data(out):\n",
    "    \n",
    "    columns_to_edit=['Time','TimeCreation','Text']\n",
    "    for index,row in out.iterrows():\n",
    "        #acquisisco i dati da modificare\n",
    "        time=row['Time']\n",
    "        timeCreation=row['TimeCreation']\n",
    "        text=row['Text']\n",
    "        #modifico i dati\n",
    "        new_data=create_new_data(time,timeCreation,text)\n",
    "       \n",
    "        out.loc[index,columns_to_edit]=new_data\n",
    "    return out\n",
    "\n",
    "        \n",
    "\n"
   ]
  },
  {
   "cell_type": "code",
   "execution_count": 21,
   "metadata": {},
   "outputs": [],
   "source": [
    "import random\n",
    "def create_sample_ds(data,k,path):\n",
    "    output=data.sample(frac=k)\n",
    "    output.to_csv(path,index=False)\n",
    "\n",
    "#nell'agumentazione il 100% dei record deve essere inserito nel dataset + una frazione k deve essere modificata ed inserita\n",
    "def agument_data(data,k,path):\n",
    "\n",
    "    #fattore di incremento\n",
    "    perc_new_data=k-1\n",
    "    out=data.sample(frac=perc_new_data) #sample dei dati da modificare e aggiungere al dataset originale\n",
    "    out=edit_data(out)\n",
    "    #stacking\n",
    "    data=pd.concat([data,out],axis=0)\n",
    "    data.to_csv(path,index=False)\n",
    "    \n",
    "    \n",
    "\n",
    "\n",
    "\n",
    "\n"
   ]
  },
  {
   "cell_type": "code",
   "execution_count": 22,
   "metadata": {},
   "outputs": [
    {
     "name": "stdout",
     "output_type": "stream",
     "text": [
      "i\n",
      "i\n",
      "i\n",
      "i\n"
     ]
    }
   ],
   "source": [
    "original_dataset=pd.read_csv('../Dataset/Rev_Parsed.csv')\n",
    "target_path='../Dataset/TestDataset/'\n",
    "base_name='Test_k_'\n",
    "extension='.csv'\n",
    "k=[0.1, 0.3, 0.5, 0.7, 1.3, 1.5, 1.7, 2]\n",
    "\n",
    "for i in k:\n",
    "    new_ds_path=target_path+base_name+str(i)+extension\n",
    "    \n",
    "    #se k è minore di 1 allora facciamo sampling\n",
    "    if i<1:\n",
    "        #new_ds=create_sample_ds(original_dataset,i,new_ds_path)\n",
    "        print('i')\n",
    "    \n",
    "    #se k è maggiore di 1 facciamo agumentation\n",
    "    elif i>1:\n",
    "        new_ds=agument_data(original_dataset,i,new_ds_path)\n",
    "    \n",
    "    elif i==1:\n",
    "        original_dataset.to_csv(new_ds_path,index=False)\n",
    "\n",
    "\n"
   ]
  }
 ],
 "metadata": {
  "kernelspec": {
   "display_name": "Python 3",
   "language": "python",
   "name": "python3"
  },
  "language_info": {
   "codemirror_mode": {
    "name": "ipython",
    "version": 3
   },
   "file_extension": ".py",
   "mimetype": "text/x-python",
   "name": "python",
   "nbconvert_exporter": "python",
   "pygments_lexer": "ipython3",
   "version": "3.10.6"
  },
  "orig_nbformat": 4
 },
 "nbformat": 4,
 "nbformat_minor": 2
}
