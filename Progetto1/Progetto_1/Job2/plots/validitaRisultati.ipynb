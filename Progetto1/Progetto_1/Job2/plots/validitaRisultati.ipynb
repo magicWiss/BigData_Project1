{
 "cells": [
  {
   "attachments": {},
   "cell_type": "markdown",
   "metadata": {},
   "source": [
    "### Verifice della validità dei risulati ottenuto dalle diverse implementazioni"
   ]
  },
  {
   "cell_type": "code",
   "execution_count": 88,
   "metadata": {},
   "outputs": [],
   "source": [
    "import csv\n",
    "from sklearn.metrics import mean_squared_error"
   ]
  },
  {
   "cell_type": "code",
   "execution_count": 89,
   "metadata": {},
   "outputs": [],
   "source": [
    "ouptut_SPQRK_SQL=\"../SPARK/out_Spark_SQL/output_SPARK_SQL.csv/output.csv\"\n",
    "output_SPARK_CORE=\"../SPARK/output/output.txt\"\n",
    "ouput_HIVE=\"../HIVE//output/output.csv\"\n",
    "output_MR=\"../MR/output2/output.txt\"\n",
    "\n"
   ]
  },
  {
   "cell_type": "code",
   "execution_count": 90,
   "metadata": {},
   "outputs": [],
   "source": [
    "#creazione del dizionario ordinato per userId\n",
    "def convert_dic_user_score_text(data):\n",
    "    user2score={}\n",
    "    for i in data:\n",
    "        i=i.strip()\n",
    "        values=i.split('\\t')\n",
    "        if len(values)>1:\n",
    "            \n",
    "            userId=values[0]\n",
    "            score_string=values[1]\n",
    "            try:\n",
    "                score=float(score_string)\n",
    "            except ValueError:\n",
    "                score=-1\n",
    "\n",
    "            user2score[userId]=score\n",
    "        \n",
    "    \n",
    "    user2score = dict(sorted(user2score.items()))          \n",
    "    return user2score        \n"
   ]
  },
  {
   "cell_type": "code",
   "execution_count": 91,
   "metadata": {},
   "outputs": [],
   "source": [
    "#creazione del dizionario ordinato per userId\n",
    "def convert_dic_user_score_csv(data):\n",
    "    \n",
    "    user2score={}\n",
    "    for values in data:\n",
    "        \n",
    "        if len(values)>1:\n",
    "            userId=values[0]\n",
    "            score_string=values[1]\n",
    "            try:\n",
    "                score=float(score_string)\n",
    "            except ValueError:\n",
    "                score=-1\n",
    "\n",
    "            user2score[userId]=score\n",
    "    \n",
    "    user2score = dict(sorted(user2score.items()))          \n",
    "    return user2score        \n"
   ]
  },
  {
   "cell_type": "code",
   "execution_count": 92,
   "metadata": {},
   "outputs": [
    {
     "name": "stdout",
     "output_type": "stream",
     "text": [
      "Dim MR: 256059\n",
      "DIM CORE: 256059\n",
      "DIM SQL: 256059\n",
      "DIM CORE: 256059\n"
     ]
    }
   ],
   "source": [
    "#creazione dei dizionari: SPARK-CORE e MR usano formato .txt, hive e sparksql formato csv (hanno headers)\n",
    "\n",
    "#TXT\n",
    "#MR\n",
    "with open(output_MR,'r') as file:\n",
    "    lines=file.readlines()\n",
    "    \n",
    "    MR_map=convert_dic_user_score_text(lines)\n",
    "    print(\"Dim MR:\",len(MR_map))\n",
    "\n",
    "#SPARK_CORE\n",
    "with open(output_SPARK_CORE,'r') as file:\n",
    "    lines=file.readlines()\n",
    "    SPARK_CORE_map=convert_dic_user_score_text(lines)\n",
    "    print(\"DIM CORE:\",len(SPARK_CORE_map))\n",
    "#CSV\n",
    "#SPARK_SQL\n",
    "with open(ouptut_SPQRK_SQL,'r') as file:\n",
    "    reader=csv.reader(file)\n",
    "    next(reader)\n",
    "\n",
    "    SPARK_SQL_map=convert_dic_user_score_csv(reader)\n",
    "    print(\"DIM SQL:\",len(SPARK_SQL_map))\n",
    "#HIVE\n",
    "with open(ouput_HIVE,'r') as file:\n",
    "    reader=csv.reader(file)\n",
    "    next(reader)\n",
    "    HIVE_map=convert_dic_user_score_csv(reader)\n",
    "    print(\"DIM CORE:\",len(HIVE_map))\n"
   ]
  },
  {
   "cell_type": "code",
   "execution_count": 93,
   "metadata": {},
   "outputs": [
    {
     "name": "stdout",
     "output_type": "stream",
     "text": [
      "[('#oc-R103C0QSV1DF5E', 0.5), ('#oc-R109MU5OBBZ59U', 0.0), ('#oc-R10LFEMQEW6QGZ', 0.0), ('#oc-R10LT57ZGIB140', 0.0), ('#oc-R10UA029WVWIUI', 0.0)]\n",
      "[('#oc-R103C0QSV1DF5E', 0.5), ('#oc-R109MU5OBBZ59U', 0.0), ('#oc-R10LFEMQEW6QGZ', 0.0), ('#oc-R10LT57ZGIB140', 0.0), ('#oc-R10UA029WVWIUI', 0.0)]\n",
      "[('#oc-R103C0QSV1DF5E', 0.5), ('#oc-R109MU5OBBZ59U', 0.0), ('#oc-R10LFEMQEW6QGZ', 0.0), ('#oc-R10LT57ZGIB140', 0.0), ('#oc-R10UA029WVWIUI', 0.0)]\n",
      "[('#oc-R103C0QSV1DF5E', 0.5), ('#oc-R109MU5OBBZ59U', 0.0), ('#oc-R10LFEMQEW6QGZ', 0.0), ('#oc-R10LT57ZGIB140', 0.0), ('#oc-R10UA029WVWIUI', 0.0)]\n"
     ]
    }
   ],
   "source": [
    "print(list(HIVE_map.items())[:5])\n",
    "print(list(SPARK_CORE_map.items())[:5])\n",
    "\n",
    "print(list(MR_map.items())[:5])\n",
    "\n",
    "print(list(SPARK_SQL_map.items())[:5])"
   ]
  },
  {
   "cell_type": "code",
   "execution_count": 94,
   "metadata": {},
   "outputs": [],
   "source": [
    "def get_MSE(list1,list2):\n",
    "    if len(list1) != len(list2):\n",
    "        raise ValueError(\"Lists must have the same length\")\n",
    "\n",
    "    squared_errors = [(x - y) ** 2 for x, y in zip(list1, list2)]\n",
    "    mse = sum(squared_errors) / len(list1)\n",
    "    return mse"
   ]
  },
  {
   "cell_type": "code",
   "execution_count": 95,
   "metadata": {},
   "outputs": [],
   "source": [
    "import itertools\n",
    "list_of_results=[SPARK_CORE_map,SPARK_SQL_map,HIVE_map,MR_map]\n",
    "\n",
    "mse_SPARK_CORE_SPARK_SQL=get_MSE(SPARK_CORE_map.values(),SPARK_SQL_map.values())\n",
    "mse_SPARK_CORE_HIVE=get_MSE(SPARK_CORE_map.values(),HIVE_map.values())\n",
    "mse_SPARK_CORE_MR=get_MSE(SPARK_CORE_map.values(),MR_map.values())\n",
    "mse_SPARK_SQL_HIVE=get_MSE(SPARK_SQL_map.values(),HIVE_map.values())\n",
    "mse_SPARK_SQL_MR=get_MSE(SPARK_SQL_map.values(),MR_map.values())\n",
    "mse_HIVE_MR=get_MSE(HIVE_map.values(),MR_map.values())\n",
    "\n",
    "\n"
   ]
  },
  {
   "cell_type": "code",
   "execution_count": 109,
   "metadata": {},
   "outputs": [
    {
     "name": "stdout",
     "output_type": "stream",
     "text": [
      "SPARK-CORE,SPARK-sql 1.1716049828535523e-05\n",
      "SPARK-CORE,Hive 1.1143578915583794e-14\n",
      "SPARK-CORE,MR 7.832044853233894e-15\n",
      "SPARK-SQL,HIVE 1.1716049816704231e-05\n",
      "SQL-MR 1.1716049822297047e-05\n",
      "HIVE,MR 5.233875049702171e-15\n"
     ]
    }
   ],
   "source": [
    "print(\"SPARK-CORE,SPARK-sql\",mse_SPARK_CORE_SPARK_SQL)\n",
    "print(\"SPARK-CORE,Hive\",mse_SPARK_CORE_HIVE)\n",
    "print(\"SPARK-CORE,MR\",mse_SPARK_CORE_MR)\n",
    "print(\"SPARK-SQL,HIVE\",mse_SPARK_SQL_HIVE)\n",
    "print(\"SQL-MR\",mse_SPARK_SQL_MR)\n",
    "\n",
    "print(\"HIVE,MR\",mse_HIVE_MR)"
   ]
  },
  {
   "cell_type": "code",
   "execution_count": 108,
   "metadata": {},
   "outputs": [],
   "source": [
    "def sample_differences(data1,data2):\n",
    "    differences=[]\n",
    "    sample_size=10\n",
    "    conta=0\n",
    "    for k in data1.keys():\n",
    "        if conta==sample_size:\n",
    "            break\n",
    "        values_d1=data1[k]\n",
    "        values_d2=data2[k]\n",
    "\n",
    "        if values_d1!=values_d2:\n",
    "            element=[k,values_d1,values_d2]\n",
    "            differences.append(element)\n",
    "            conta+=1\n",
    "    return differences\n",
    "        "
   ]
  },
  {
   "cell_type": "code",
   "execution_count": 110,
   "metadata": {},
   "outputs": [
    {
     "data": {
      "text/plain": [
       "[['#oc-R115TNMSPFT9I7', 0.6666666666666666, 0.666667],\n",
       " ['#oc-R119LM8D59ZW8Y', 0.45454545454545453, 0.454545],\n",
       " ['#oc-R11D9LKDAN5NQJ', 0.6666666666666666, 0.666667],\n",
       " ['#oc-R13X3YIJ6GLT0C', 0.5714285714285714, 0.571429],\n",
       " ['#oc-R16HPROGAO1HS6', 0.3333333333333333, 0.333333],\n",
       " ['#oc-R1791MZMDMM68R', 0.5294117647058824, 0.529412],\n",
       " ['#oc-R17KN3F3UGQSU0', 0.3333333333333333, 0.333333],\n",
       " ['#oc-R18WCIOVC1O7U3', 0.3333333333333333, 0.333333],\n",
       " ['#oc-R18XETRRZHQVPE', 0.6666666666666666, 0.666667],\n",
       " ['#oc-R192YGWMM86YIU', 0.5555555555555556, 0.555556]]"
      ]
     },
     "execution_count": 110,
     "metadata": {},
     "output_type": "execute_result"
    }
   ],
   "source": [
    "sample_differences_MR_HIVE=sample_differences(SPARK_SQL_map,MR_map)\n",
    "sample_differences_MR_HIVE"
   ]
  },
  {
   "cell_type": "code",
   "execution_count": 111,
   "metadata": {},
   "outputs": [
    {
     "data": {
      "text/plain": [
       "[['#oc-R115TNMSPFT9I7', 0.6666666666666666, 0.6666667],\n",
       " ['#oc-R119LM8D59ZW8Y', 0.45454545454545453, 0.45454547],\n",
       " ['#oc-R11D9LKDAN5NQJ', 0.6666666666666666, 0.6666667],\n",
       " ['#oc-R13X3YIJ6GLT0C', 0.5714285714285714, 0.5714286],\n",
       " ['#oc-R16HPROGAO1HS6', 0.3333333333333333, 0.33333334],\n",
       " ['#oc-R1791MZMDMM68R', 0.5294117647058824, 0.5294118],\n",
       " ['#oc-R17KN3F3UGQSU0', 0.3333333333333333, 0.33333334],\n",
       " ['#oc-R18WCIOVC1O7U3', 0.3333333333333333, 0.33333334],\n",
       " ['#oc-R18XETRRZHQVPE', 0.6666666666666666, 0.6666667],\n",
       " ['#oc-R192YGWMM86YIU', 0.5555555555555556, 0.5555556]]"
      ]
     },
     "execution_count": 111,
     "metadata": {},
     "output_type": "execute_result"
    }
   ],
   "source": [
    "sample_differences_MR_SPARK_CORE=sample_differences(SPARK_SQL_map,HIVE_map)\n",
    "sample_differences_MR_SPARK_CORE"
   ]
  },
  {
   "attachments": {},
   "cell_type": "markdown",
   "metadata": {},
   "source": [
    "# Validità locale dei risulati"
   ]
  },
  {
   "cell_type": "code",
   "execution_count": 100,
   "metadata": {},
   "outputs": [
    {
     "data": {
      "text/plain": [
       "['A109R6CX8Y1KG1',\n",
       " 'A109RFVD8JUHJG',\n",
       " 'A109UDZB70HFRF',\n",
       " 'A109V1N9ZW77LT',\n",
       " 'A109VBXN1OUQF3',\n",
       " 'A109VTGM6ALZZ7',\n",
       " 'A109VW0OXUQX45',\n",
       " 'A109W8CR31K3ED',\n",
       " 'A109WBWE4ZS0QT',\n",
       " 'A109WE4H6C9O2X']"
      ]
     },
     "execution_count": 100,
     "metadata": {},
     "output_type": "execute_result"
    }
   ],
   "source": [
    "#Sample UserId\n",
    "samples_userId=list(MR_map.keys())[1090:1100]\n",
    "samples_userId"
   ]
  },
  {
   "cell_type": "code",
   "execution_count": 101,
   "metadata": {},
   "outputs": [],
   "source": [
    "import pandas as pd\n",
    "\n",
    "data=pd.read_csv(\"../../Dataset/Rev_Parsed.csv\")\n",
    "\n",
    "data=data[data['UserId'].isin(samples_userId)]\n"
   ]
  },
  {
   "cell_type": "code",
   "execution_count": 102,
   "metadata": {},
   "outputs": [],
   "source": [
    "\n",
    "columns_Needed=[\"UserId\",\"HelpfulnessNumerator\",\"HelpfulnessDenominator\"]\n",
    "\n",
    "data=data[columns_Needed]"
   ]
  },
  {
   "cell_type": "code",
   "execution_count": 103,
   "metadata": {},
   "outputs": [],
   "source": [
    "def carate_data_test(ids,data):\n",
    "    test_list=[]\n",
    "    for i in ids:\n",
    "        data_test=data[data['UserId']==i]\n",
    "        test_list.append(data_test)\n",
    "    return test_list"
   ]
  },
  {
   "cell_type": "code",
   "execution_count": 104,
   "metadata": {},
   "outputs": [],
   "source": [
    "import numpy as np\n",
    "def compute_ratio(df):\n",
    "     \n",
    "    avg_ratio = df.apply(lambda row: row['HelpfulnessNumerator'] / row['HelpfulnessDenominator'] if row['HelpfulnessDenominator'] != 0 else 0, axis=1).sum()\n",
    "    avg_ratio=avg_ratio/len(df)\n",
    "   \n",
    "\n",
    "    # Print the average ratio\n",
    "    return avg_ratio\n",
    "\n",
    "def get_results(ids,test_data):\n",
    "    userId2result={}\n",
    "    for i in range(0,len(test_data)):\n",
    "        current_user=ids[i]\n",
    "        current_dataset=test_data[i]\n",
    "        result=compute_ratio(current_dataset)\n",
    "        userId2result[current_user]=result\n",
    "    return userId2result\n"
   ]
  },
  {
   "cell_type": "code",
   "execution_count": 105,
   "metadata": {},
   "outputs": [],
   "source": [
    "#trovo gli opuptu\n",
    "test_data=carate_data_test(samples_userId,data)\n",
    "\n",
    "\n",
    "results=get_results(samples_userId,test_data)\n",
    "\n",
    "\n"
   ]
  },
  {
   "cell_type": "code",
   "execution_count": 106,
   "metadata": {},
   "outputs": [
    {
     "name": "stdout",
     "output_type": "stream",
     "text": [
      "{'A109R6CX8Y1KG1': 1.0, 'A109RFVD8JUHJG': 1.0, 'A109UDZB70HFRF': 0.5, 'A109V1N9ZW77LT': 0.0, 'A109VBXN1OUQF3': 0.0, 'A109VTGM6ALZZ7': 0.0, 'A109VW0OXUQX45': 0.0, 'A109W8CR31K3ED': 0.5, 'A109WBWE4ZS0QT': 0.6666666666666666, 'A109WE4H6C9O2X': 1.0}\n"
     ]
    }
   ],
   "source": [
    "print(results)"
   ]
  },
  {
   "cell_type": "code",
   "execution_count": 107,
   "metadata": {},
   "outputs": [
    {
     "name": "stdout",
     "output_type": "stream",
     "text": [
      "ERRORE SC A109WBWE4ZS0QT 0.6666666666666666 0.666667\n",
      "ERRORE MR A109WBWE4ZS0QT 0.6666666666666666 0.6666667\n"
     ]
    }
   ],
   "source": [
    "#check dei risulatati\n",
    "for k in results.keys():\n",
    "    current_user=k\n",
    "    true_value=results[k]\n",
    "    MR_value=MR_map[k]\n",
    "    SPARK_CORE_value=SPARK_CORE_map[k]\n",
    "\n",
    "    SPARK_SQL_value=SPARK_SQL_map[k]\n",
    "\n",
    "    HIVE_value=HIVE_map[k]\n",
    "\n",
    "    if true_value!=MR_value:\n",
    "        print(\"ERRORE MR\",MR_value)\n",
    "    \n",
    "    if true_value!=SPARK_CORE_value:\n",
    "        print(\"ERRORE SC\",current_user,true_value,SPARK_CORE_value)\n",
    "\n",
    "    if true_value!=SPARK_SQL_value:\n",
    "        print(\"ERRORE SSQL\",current_user,true_value,SPARK_SQL_value)\n",
    "\n",
    "    if true_value!=HIVE_value:\n",
    "        print(\"ERRORE MR\",current_user,true_value,HIVE_value)"
   ]
  },
  {
   "cell_type": "code",
   "execution_count": 115,
   "metadata": {},
   "outputs": [
    {
     "name": "stdout",
     "output_type": "stream",
     "text": [
      "10\n",
      "10\n"
     ]
    }
   ],
   "source": [
    "#¢ompute MSE for test data\n",
    "MR_test_set={key: value for key, value in MR_map.items() if key in samples_userId}\n",
    "\n",
    "SQL_test_set={key: value for key, value in SPARK_SQL_map.items() if key in samples_userId}\n",
    "\n",
    "HIVE_test_set={key: value for key, value in HIVE_map.items() if key in samples_userId}\n",
    "\n",
    "CORE_test_set={key: value for key, value in SPARK_CORE_map.items() if key in samples_userId}\n"
   ]
  },
  {
   "cell_type": "code",
   "execution_count": 116,
   "metadata": {},
   "outputs": [
    {
     "name": "stdout",
     "output_type": "stream",
     "text": [
      "SPARK-sql 1.1111111114217288e-14\n",
      "SPARK-CORE 1.1111111114217288e-14\n",
      "MR 0.0\n",
      "HIVE 1.1111111099414314e-16\n"
     ]
    }
   ],
   "source": [
    "\n",
    "mse_SPARK_SQL_test=get_MSE(CORE_test_set.values(),results.values())\n",
    "mse_HIVE_test=get_MSE(results.values(),HIVE_test_set.values())\n",
    "mse_SPARK_CORE_test=get_MSE(CORE_test_set.values(),results.values())\n",
    "\n",
    "mse_MR_test=get_MSE(MR_test_set.values(),results.values())\n",
    "print(\"SPARK-sql\",mse_SPARK_SQL_test)\n",
    "print(\"SPARK-CORE\",mse_SPARK_CORE_test)\n",
    "print(\"MR\",mse_MR_test)\n",
    "print(\"HIVE\",mse_HIVE_test)\n"
   ]
  }
 ],
 "metadata": {
  "kernelspec": {
   "display_name": "Python 3",
   "language": "python",
   "name": "python3"
  },
  "language_info": {
   "codemirror_mode": {
    "name": "ipython",
    "version": 3
   },
   "file_extension": ".py",
   "mimetype": "text/x-python",
   "name": "python",
   "nbconvert_exporter": "python",
   "pygments_lexer": "ipython3",
   "version": "3.10.6"
  },
  "orig_nbformat": 4
 },
 "nbformat": 4,
 "nbformat_minor": 2
}
