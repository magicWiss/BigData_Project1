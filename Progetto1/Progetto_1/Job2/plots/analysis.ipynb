{
 "cells": [
  {
   "attachments": {},
   "cell_type": "markdown",
   "metadata": {},
   "source": [
    "# Analisi del risultato job 2\n"
   ]
  },
  {
   "cell_type": "code",
   "execution_count": 7,
   "metadata": {},
   "outputs": [],
   "source": [
    "import pandas as pd\n",
    "import matplotlib.pyplot as plt\n",
    "import numpy as np\n",
    "\n"
   ]
  },
  {
   "attachments": {},
   "cell_type": "markdown",
   "metadata": {},
   "source": [
    "## metodi util"
   ]
  },
  {
   "cell_type": "code",
   "execution_count": 8,
   "metadata": {},
   "outputs": [],
   "source": [
    "#funzione per la creazione di un dizionario #value->count\n",
    "def create_dic_value_count(lines):\n",
    "    out={}\n",
    "    for line in lines:\n",
    "        line=line.strip()\n",
    "        elements=line.split('\\t')\n",
    "        if len(elements)>1:\n",
    "            key_val=elements[1]\n",
    "            if key_val not in out:\n",
    "                out[key_val]=0\n",
    "            out[key_val]+=1\n",
    "    return out\n",
    "\n",
    "        "
   ]
  },
  {
   "cell_type": "code",
   "execution_count": 9,
   "metadata": {},
   "outputs": [],
   "source": [
    "#funzione per la lettura dell'input (output del job mr)\n",
    "def read_input(path):\n",
    "    lines=''\n",
    "    with open(path,'r') as f:\n",
    "        lines=f.readlines()\n",
    "    return lines"
   ]
  },
  {
   "cell_type": "code",
   "execution_count": 10,
   "metadata": {},
   "outputs": [],
   "source": [
    "#Creazione e plot CDF\n",
    "#input->dizionario\n",
    "def plot_CDF(input):\n",
    "    keys=np.array(list(input.keys()))\n",
    "    values=np.array(list(input.values()))\n",
    "\n",
    "    #sort dell'array in ascending order\n",
    "    sort_idx=np.argsort(keys)\n",
    "    keys=keys[sort_idx]\n",
    "    values=values[sort_idx]\n",
    "    \n",
    "\n",
    "    #fattore di normalizzazione\n",
    "    N=np.cumsum(values)\n",
    "\n",
    "    #normalizzazione\n",
    "    cdf=N/N[-1]\n",
    "    plt.plot(keys, cdf)\n",
    "    plt.xlabel('Values')\n",
    "    plt.ylabel('Cumulative Probability')\n",
    "    plt.title('CDF from Dictionary')\n",
    "    plt.show()\n",
    "\n"
   ]
  },
  {
   "cell_type": "code",
   "execution_count": 63,
   "metadata": {},
   "outputs": [],
   "source": [
    "#plot della distribuzione\n",
    "def plot_distribution(input):\n",
    "    \n",
    "    keys=list(input.keys())\n",
    "    values = np.array(list(input.values()))/sum(input.values())\n",
    "    \n",
    "    \n",
    "    \n",
    "\n",
    "    \n",
    "\n",
    "    # Create a histogram of the values\n",
    "\n",
    "    # Plot the histogram\n",
    "    plt.bar(keys,values)\n",
    "    plt.xlabel('Values')\n",
    "    plt.ylabel('Frequency')\n",
    "    plt.title('Distribution of Dictionary Elements')\n",
    "    plt.show()"
   ]
  },
  {
   "cell_type": "code",
   "execution_count": 64,
   "metadata": {},
   "outputs": [
    {
     "data": {
      "image/png": "[encoded data removed]",
      "text/plain": [
       "<Figure size 640x480 with 1 Axes>"
      ]
     },
     "metadata": {},
     "output_type": "display_data"
    }
   ],
   "source": [
    "PATH_INPUT=r\"../output2/output.txt\"\n",
    "\n",
    "lines=read_input(PATH_INPUT)\n",
    "\n",
    "map_value_count=create_dic_value_count(lines)\n",
    "\n",
    "#print(map_value_count)\n",
    "#plot_CDF(map_value_count)\n",
    "#plot_distribution(map_value_count)"
   ]
  }
 ],
 "metadata": {
  "kernelspec": {
   "display_name": "Python 3",
   "language": "python",
   "name": "python3"
  },
  "language_info": {
   "codemirror_mode": {
    "name": "ipython",
    "version": 3
   },
   "file_extension": ".py",
   "mimetype": "text/x-python",
   "name": "python",
   "nbconvert_exporter": "python",
   "pygments_lexer": "ipython3",
   "version": "3.10.6"
  },
  "orig_nbformat": 4
 },
 "nbformat": 4,
 "nbformat_minor": 2
}
