{
 "cells": [
  {
   "attachments": {},
   "cell_type": "markdown",
   "metadata": {},
   "source": [
    "# Analisi del risultato job 2 MR, HIVE e SPARK\n"
   ]
  },
  {
   "cell_type": "code",
   "execution_count": 1,
   "metadata": {},
   "outputs": [],
   "source": [
    "import pandas as pd\n",
    "import matplotlib.pyplot as plt\n",
    "import numpy as np\n",
    "\n"
   ]
  },
  {
   "attachments": {},
   "cell_type": "markdown",
   "metadata": {},
   "source": [
    "## metodi util"
   ]
  },
  {
   "cell_type": "code",
   "execution_count": 2,
   "metadata": {},
   "outputs": [],
   "source": [
    "#funzione per la creazione di un dizionario #value->count\n",
    "def create_dic_value_count_MR(lines):\n",
    "    out={}\n",
    "    for line in lines:\n",
    "        line=line.strip()\n",
    "        elements=line.split('\\t')\n",
    "        if len(elements)>1:\n",
    "            key_val=elements[1]\n",
    "            if key_val not in out:\n",
    "                out[key_val]=0\n",
    "            out[key_val]+=1\n",
    "    return out\n",
    "\n",
    "        "
   ]
  },
  {
   "cell_type": "code",
   "execution_count": 3,
   "metadata": {},
   "outputs": [],
   "source": [
    "#filtraggio della mappa prendendo inc onsiderazione solamente i valori maggiori di k\n",
    "def create_dic_value_count_filter_k(input,k):\n",
    "    out={}\n",
    "    for i in input.keys():\n",
    "        if input[i]>=k:\n",
    "            out[i]=input[i]\n",
    "    return out\n"
   ]
  },
  {
   "cell_type": "code",
   "execution_count": 4,
   "metadata": {},
   "outputs": [],
   "source": [
    "#funzione per la lettura dell'input (output del job mr)\n",
    "def read_input_MR(path):\n",
    "    lines=''\n",
    "    with open(path,'r') as f:\n",
    "        lines=f.readlines()\n",
    "    return lines"
   ]
  },
  {
   "cell_type": "code",
   "execution_count": 5,
   "metadata": {},
   "outputs": [],
   "source": [
    "def read_input_HIVE(path):\n",
    "    data=pd.read_csv(path)\n",
    "    return data"
   ]
  },
  {
   "cell_type": "code",
   "execution_count": 6,
   "metadata": {},
   "outputs": [],
   "source": [
    "#Creazione e plot CDF\n",
    "#input->dizionario\n",
    "def plot_CDF(input,title,save_path):\n",
    "    keys=np.array(list(input.keys()))\n",
    "    values=np.array(list(input.values()))\n",
    "\n",
    "    #sort dell'array in ascending order\n",
    "    sort_idx=np.argsort(keys)\n",
    "    keys=keys[sort_idx]\n",
    "    values=values[sort_idx]\n",
    "    \n",
    "\n",
    "    #fattore di normalizzazione\n",
    "    N=np.cumsum(values)\n",
    "\n",
    "    #normalizzazione\n",
    "    cdf=N/N[-1]\n",
    "    plt.plot(keys, cdf)\n",
    "    plt.xlabel('Values')\n",
    "    plt.ylabel('Cumulative Probability')\n",
    "    plt.title(title)\n",
    "    fig1=plt.gcf()\n",
    "    fig1.savefig(save_path)\n",
    "    plt.show()\n",
    "   \n",
    "\n"
   ]
  },
  {
   "cell_type": "code",
   "execution_count": 7,
   "metadata": {},
   "outputs": [],
   "source": [
    "def prep_data(data):\n",
    "    keys=np.array(list(data.keys()))\n",
    "    values=np.array(list(data.values()))\n",
    "\n",
    "    #sort dell'array in ascending order\n",
    "    sort_idx=np.argsort(keys)\n",
    "    keys=keys[sort_idx]\n",
    "    values=values[sort_idx]\n",
    "    \n",
    "\n",
    "    #fattore di normalizzazione\n",
    "    N=np.cumsum(values)\n",
    "\n",
    "    #normalizzazione\n",
    "    cdf=N/N[-1]\n",
    "    return cdf,keys"
   ]
  },
  {
   "cell_type": "code",
   "execution_count": 8,
   "metadata": {},
   "outputs": [],
   "source": [
    "#CLF comunlativo dei risultati HIVE, SPARK, MR\n",
    "def plot_cum_CLF(data,title,path):\n",
    "    colors=['red','green','blue','yellow']\n",
    "    labels=['MR','Hive','SPARK','SPARK-SQL']\n",
    "\n",
    "    i=0\n",
    "    for i in range(len(data)):\n",
    "        current_data=data[i]\n",
    "        cdf,keys=prep_data(current_data)\n",
    "        plt.plot(keys,cdf,color=colors[i],label=labels[i])\n",
    "    \n",
    "    plt.legend()\n",
    "    plt.title(title)\n",
    "    plt.savefig(path)\n",
    "    plt.show()\n",
    "        \n",
    "    \n"
   ]
  },
  {
   "cell_type": "code",
   "execution_count": 9,
   "metadata": {},
   "outputs": [],
   "source": [
    "#plot della distribuzione\n",
    "def plot_distribution(input):\n",
    "    \n",
    "    keys=list(input.keys())\n",
    "    values = np.array(list(input.values()))/len(input)\n",
    "    # Create a histogram of the values\n",
    "\n",
    "    # Plot the histogram\n",
    "    plt.bar(keys,values)\n",
    "    plt.xlabel('Values')\n",
    "    plt.ylabel('Frequency')\n",
    "    plt.title('Distribution of Dictionary Elements')\n",
    "    plt.show()"
   ]
  },
  {
   "attachments": {},
   "cell_type": "markdown",
   "metadata": {},
   "source": [
    "## ANALISI OUTPUT MR"
   ]
  },
  {
   "cell_type": "code",
   "execution_count": 10,
   "metadata": {},
   "outputs": [
    {
     "name": "stdout",
     "output_type": "stream",
     "text": [
      "Min value: 1\n",
      "Max value: 119810\n",
      "AVG value: 40.92360556177081\n"
     ]
    }
   ],
   "source": [
    "#MR analysis\n",
    "PATH_INPUT=r\"../MR/output2/output.txt\"\n",
    "\n",
    "lines=read_input_MR(PATH_INPUT)\n",
    "\n",
    "map_value_count=create_dic_value_count_MR(lines)\n",
    "\n",
    "min_value_count=min(map_value_count.values())\n",
    "max_value_count=max(map_value_count.values())\n",
    "\n",
    "mean_value_count=sum(map_value_count.values())/len(map_value_count.keys())\n",
    "\n",
    "map_value_count_filter=create_dic_value_count_filter_k(map_value_count,mean_value_count)\n",
    "\n",
    "print(\"Min value:\",min_value_count)\n",
    "print(\"Max value:\",max_value_count)\n",
    "print(\"AVG value:\",mean_value_count)\n",
    "\n",
    "#print(map_value_count)\n"
   ]
  },
  {
   "cell_type": "code",
   "execution_count": 11,
   "metadata": {},
   "outputs": [
    {
     "data": {
      "image/png": "[encoded data removed]",
      "text/plain": [
       "<Figure size 640x480 with 1 Axes>"
      ]
     },
     "metadata": {},
     "output_type": "display_data"
    }
   ],
   "source": [
    "plot_CDF(map_value_count,title=\"MAP REDUCE CLF\", save_path=\"CLF_MR.jpg\")"
   ]
  },
  {
   "attachments": {},
   "cell_type": "markdown",
   "metadata": {},
   "source": [
    "## Analisi risultati HIVE"
   ]
  },
  {
   "cell_type": "code",
   "execution_count": 12,
   "metadata": {},
   "outputs": [
    {
     "data": {
      "text/html": [
       "<div>\n",
       "<style scoped>\n",
       "    .dataframe tbody tr th:only-of-type {\n",
       "        vertical-align: middle;\n",
       "    }\n",
       "\n",
       "    .dataframe tbody tr th {\n",
       "        vertical-align: top;\n",
       "    }\n",
       "\n",
       "    .dataframe thead th {\n",
       "        text-align: right;\n",
       "    }\n",
       "</style>\n",
       "<table border=\"1\" class=\"dataframe\">\n",
       "  <thead>\n",
       "    <tr style=\"text-align: right;\">\n",
       "      <th></th>\n",
       "      <th>UserId</th>\n",
       "      <th>Score</th>\n",
       "    </tr>\n",
       "  </thead>\n",
       "  <tbody>\n",
       "    <tr>\n",
       "      <th>0</th>\n",
       "      <td>A1T3LA8JBH1EAV</td>\n",
       "      <td>1.0</td>\n",
       "    </tr>\n",
       "    <tr>\n",
       "      <th>1</th>\n",
       "      <td>A1T3J0ORTNOBOW</td>\n",
       "      <td>1.0</td>\n",
       "    </tr>\n",
       "    <tr>\n",
       "      <th>2</th>\n",
       "      <td>A1CPWKVHEWSIO3</td>\n",
       "      <td>1.0</td>\n",
       "    </tr>\n",
       "    <tr>\n",
       "      <th>3</th>\n",
       "      <td>A1CQ51299RSL79</td>\n",
       "      <td>1.0</td>\n",
       "    </tr>\n",
       "    <tr>\n",
       "      <th>4</th>\n",
       "      <td>A1T3BH8PLV8W8W</td>\n",
       "      <td>1.0</td>\n",
       "    </tr>\n",
       "    <tr>\n",
       "      <th>5</th>\n",
       "      <td>A1T3ABYJNZZN7C</td>\n",
       "      <td>1.0</td>\n",
       "    </tr>\n",
       "    <tr>\n",
       "      <th>6</th>\n",
       "      <td>A1CQBR8TNDCN4T</td>\n",
       "      <td>1.0</td>\n",
       "    </tr>\n",
       "    <tr>\n",
       "      <th>7</th>\n",
       "      <td>A1CQJ11ZE07MYC</td>\n",
       "      <td>1.0</td>\n",
       "    </tr>\n",
       "    <tr>\n",
       "      <th>8</th>\n",
       "      <td>ATNLUAQ32L6ZR</td>\n",
       "      <td>1.0</td>\n",
       "    </tr>\n",
       "    <tr>\n",
       "      <th>9</th>\n",
       "      <td>A1T345VG0EX9T0</td>\n",
       "      <td>1.0</td>\n",
       "    </tr>\n",
       "  </tbody>\n",
       "</table>\n",
       "</div>"
      ],
      "text/plain": [
       "           UserId  Score\n",
       "0  A1T3LA8JBH1EAV    1.0\n",
       "1  A1T3J0ORTNOBOW    1.0\n",
       "2  A1CPWKVHEWSIO3    1.0\n",
       "3  A1CQ51299RSL79    1.0\n",
       "4  A1T3BH8PLV8W8W    1.0\n",
       "5  A1T3ABYJNZZN7C    1.0\n",
       "6  A1CQBR8TNDCN4T    1.0\n",
       "7  A1CQJ11ZE07MYC    1.0\n",
       "8   ATNLUAQ32L6ZR    1.0\n",
       "9  A1T345VG0EX9T0    1.0"
      ]
     },
     "execution_count": 12,
     "metadata": {},
     "output_type": "execute_result"
    }
   ],
   "source": [
    "LOCAL_HIVE_OUT_PATH=\"../HIVE/output/output.csv\"\n",
    "data=read_input_HIVE(LOCAL_HIVE_OUT_PATH)\n",
    "data.head(10)\n",
    "\n",
    "\n"
   ]
  },
  {
   "cell_type": "code",
   "execution_count": 13,
   "metadata": {},
   "outputs": [],
   "source": [
    "score2count=data['Score'].value_counts()\n",
    "\n",
    "score2count=score2count.to_dict()\n"
   ]
  },
  {
   "cell_type": "code",
   "execution_count": 14,
   "metadata": {},
   "outputs": [
    {
     "data": {
      "image/png": "[encoded data removed]",
      "text/plain": [
       "<Figure size 640x480 with 1 Axes>"
      ]
     },
     "metadata": {},
     "output_type": "display_data"
    }
   ],
   "source": [
    "#Conversione in una mappa per la stampa del CLF\n",
    "plot_CDF(score2count,title='HIVE CLF',save_path=\"Hive_CLF.jpg\")\n"
   ]
  },
  {
   "attachments": {},
   "cell_type": "markdown",
   "metadata": {},
   "source": [
    "## Confronto HIVE vs MR"
   ]
  },
  {
   "attachments": {},
   "cell_type": "markdown",
   "metadata": {},
   "source": [
    "### Confrotno CLF HIVE, MR"
   ]
  },
  {
   "cell_type": "code",
   "execution_count": 16,
   "metadata": {},
   "outputs": [
    {
     "data": {
      "image/png": "[encoded data removed]",
      "text/plain": [
       "<Figure size 640x480 with 1 Axes>"
      ]
     },
     "metadata": {},
     "output_type": "display_data"
    }
   ],
   "source": [
    "plot_cum_CLF(data=[score2count,map_value_count],title='MR vs HIVE',path=\"MP_vs_HIVE.jpg\")"
   ]
  },
  {
   "attachments": {},
   "cell_type": "markdown",
   "metadata": {},
   "source": [
    "### Confronto Valori HIVE vs MR\n"
   ]
  },
  {
   "cell_type": "code",
   "execution_count": 18,
   "metadata": {},
   "outputs": [],
   "source": [
    "def convert_data(lines):\n",
    "    columns=['UserId','Score']\n",
    "    out=[]\n",
    "    for line in lines:\n",
    "        entry=[]\n",
    "        line=line.strip()\n",
    "        values=line.split('\\t')\n",
    "        if len(values)==2:\n",
    "            user_id=values[0]\n",
    "            score=values[1]\n",
    "            entry=[user_id,score]\n",
    "            out.append(entry)\n",
    "    \n",
    "    return pd.DataFrame(data=out,columns=columns)\n",
    "    "
   ]
  },
  {
   "cell_type": "code",
   "execution_count": 53,
   "metadata": {},
   "outputs": [],
   "source": [
    "Hive_Data=pd.read_csv('../HIVE/output/output.csv')\n",
    "\n",
    "MR_data=read_input_MR('../MR/output2/output.txt')\n",
    "MR_data=convert_data(MR_data)\n",
    "\n",
    "\n"
   ]
  },
  {
   "cell_type": "code",
   "execution_count": 54,
   "metadata": {},
   "outputs": [
    {
     "data": {
      "text/html": [
       "<div>\n",
       "<style scoped>\n",
       "    .dataframe tbody tr th:only-of-type {\n",
       "        vertical-align: middle;\n",
       "    }\n",
       "\n",
       "    .dataframe tbody tr th {\n",
       "        vertical-align: top;\n",
       "    }\n",
       "\n",
       "    .dataframe thead th {\n",
       "        text-align: right;\n",
       "    }\n",
       "</style>\n",
       "<table border=\"1\" class=\"dataframe\">\n",
       "  <thead>\n",
       "    <tr style=\"text-align: right;\">\n",
       "      <th></th>\n",
       "      <th>UserId</th>\n",
       "      <th>Score_x</th>\n",
       "      <th>Score_y</th>\n",
       "    </tr>\n",
       "  </thead>\n",
       "  <tbody>\n",
       "    <tr>\n",
       "      <th>0</th>\n",
       "      <td>#oc-R163CP16SRRI50</td>\n",
       "      <td>1.0</td>\n",
       "      <td>1.0</td>\n",
       "    </tr>\n",
       "    <tr>\n",
       "      <th>1</th>\n",
       "      <td>#oc-R19QDOY2PXS15</td>\n",
       "      <td>1.0</td>\n",
       "      <td>1.0</td>\n",
       "    </tr>\n",
       "    <tr>\n",
       "      <th>2</th>\n",
       "      <td>#oc-R1B9W981WGB5D0</td>\n",
       "      <td>1.0</td>\n",
       "      <td>1.0</td>\n",
       "    </tr>\n",
       "    <tr>\n",
       "      <th>3</th>\n",
       "      <td>#oc-R1I879FCTH83GM</td>\n",
       "      <td>1.0</td>\n",
       "      <td>1.0</td>\n",
       "    </tr>\n",
       "    <tr>\n",
       "      <th>4</th>\n",
       "      <td>#oc-R1KIN7Z6UZUU8Q</td>\n",
       "      <td>1.0</td>\n",
       "      <td>1.0</td>\n",
       "    </tr>\n",
       "    <tr>\n",
       "      <th>5</th>\n",
       "      <td>#oc-R1OGEG6X7R7642</td>\n",
       "      <td>1.0</td>\n",
       "      <td>1.0</td>\n",
       "    </tr>\n",
       "    <tr>\n",
       "      <th>6</th>\n",
       "      <td>#oc-R1P45E92XO67UX</td>\n",
       "      <td>1.0</td>\n",
       "      <td>1.0</td>\n",
       "    </tr>\n",
       "    <tr>\n",
       "      <th>7</th>\n",
       "      <td>#oc-R1UHB5HAUGHE85</td>\n",
       "      <td>1.0</td>\n",
       "      <td>1.0</td>\n",
       "    </tr>\n",
       "    <tr>\n",
       "      <th>8</th>\n",
       "      <td>#oc-R1XE00JQIJIPUH</td>\n",
       "      <td>1.0</td>\n",
       "      <td>1.0</td>\n",
       "    </tr>\n",
       "    <tr>\n",
       "      <th>9</th>\n",
       "      <td>#oc-R1XK2SYVVK4FZA</td>\n",
       "      <td>1.0</td>\n",
       "      <td>1.0</td>\n",
       "    </tr>\n",
       "  </tbody>\n",
       "</table>\n",
       "</div>"
      ],
      "text/plain": [
       "               UserId  Score_x  Score_y\n",
       "0  #oc-R163CP16SRRI50      1.0      1.0\n",
       "1   #oc-R19QDOY2PXS15      1.0      1.0\n",
       "2  #oc-R1B9W981WGB5D0      1.0      1.0\n",
       "3  #oc-R1I879FCTH83GM      1.0      1.0\n",
       "4  #oc-R1KIN7Z6UZUU8Q      1.0      1.0\n",
       "5  #oc-R1OGEG6X7R7642      1.0      1.0\n",
       "6  #oc-R1P45E92XO67UX      1.0      1.0\n",
       "7  #oc-R1UHB5HAUGHE85      1.0      1.0\n",
       "8  #oc-R1XE00JQIJIPUH      1.0      1.0\n",
       "9  #oc-R1XK2SYVVK4FZA      1.0      1.0"
      ]
     },
     "execution_count": 54,
     "metadata": {},
     "output_type": "execute_result"
    }
   ],
   "source": [
    "#join dei dataframe\n",
    "merge_data=pd.merge(MR_data,Hive_Data,'outer',on='UserId')\n",
    "merge_data['Score_x']=merge_data['Score_x'].astype(float).round(4)\n",
    "merge_data['Score_y']=merge_data['Score_y'].astype(float).round(4)\n",
    "merge_data.head(10)"
   ]
  },
  {
   "cell_type": "code",
   "execution_count": 55,
   "metadata": {},
   "outputs": [
    {
     "data": {
      "text/html": [
       "<div>\n",
       "<style scoped>\n",
       "    .dataframe tbody tr th:only-of-type {\n",
       "        vertical-align: middle;\n",
       "    }\n",
       "\n",
       "    .dataframe tbody tr th {\n",
       "        vertical-align: top;\n",
       "    }\n",
       "\n",
       "    .dataframe thead th {\n",
       "        text-align: right;\n",
       "    }\n",
       "</style>\n",
       "<table border=\"1\" class=\"dataframe\">\n",
       "  <thead>\n",
       "    <tr style=\"text-align: right;\">\n",
       "      <th></th>\n",
       "      <th>UserId</th>\n",
       "      <th>Score_x</th>\n",
       "      <th>Score_y</th>\n",
       "    </tr>\n",
       "  </thead>\n",
       "  <tbody>\n",
       "    <tr>\n",
       "      <th>100018</th>\n",
       "      <td>A2M9D9BDHONV3Y</td>\n",
       "      <td>0.5293</td>\n",
       "      <td>0.5292</td>\n",
       "    </tr>\n",
       "    <tr>\n",
       "      <th>116964</th>\n",
       "      <td>A18TST0YO1NN2</td>\n",
       "      <td>0.4437</td>\n",
       "      <td>0.4438</td>\n",
       "    </tr>\n",
       "    <tr>\n",
       "      <th>117723</th>\n",
       "      <td>A100UZGZNZ9ZYN</td>\n",
       "      <td>0.4187</td>\n",
       "      <td>0.4188</td>\n",
       "    </tr>\n",
       "  </tbody>\n",
       "</table>\n",
       "</div>"
      ],
      "text/plain": [
       "                UserId  Score_x  Score_y\n",
       "100018  A2M9D9BDHONV3Y   0.5293   0.5292\n",
       "116964   A18TST0YO1NN2   0.4437   0.4438\n",
       "117723  A100UZGZNZ9ZYN   0.4187   0.4188"
      ]
     },
     "execution_count": 55,
     "metadata": {},
     "output_type": "execute_result"
    }
   ],
   "source": [
    "#Check errors\n",
    "error=merge_data[merge_data['Score_x']!=merge_data['Score_y']]\n",
    "error.to_csv('error_MR_Hive.csv',index=False)\n"
   ]
  },
  {
   "cell_type": "code",
   "execution_count": 38,
   "metadata": {},
   "outputs": [
    {
     "data": {
      "text/html": [
       "<div>\n",
       "<style scoped>\n",
       "    .dataframe tbody tr th:only-of-type {\n",
       "        vertical-align: middle;\n",
       "    }\n",
       "\n",
       "    .dataframe tbody tr th {\n",
       "        vertical-align: top;\n",
       "    }\n",
       "\n",
       "    .dataframe thead th {\n",
       "        text-align: right;\n",
       "    }\n",
       "</style>\n",
       "<table border=\"1\" class=\"dataframe\">\n",
       "  <thead>\n",
       "    <tr style=\"text-align: right;\">\n",
       "      <th></th>\n",
       "      <th>UserId</th>\n",
       "      <th>Score</th>\n",
       "    </tr>\n",
       "  </thead>\n",
       "  <tbody>\n",
       "    <tr>\n",
       "      <th>146641</th>\n",
       "      <td>UserId</td>\n",
       "      <td>0.0</td>\n",
       "    </tr>\n",
       "  </tbody>\n",
       "</table>\n",
       "</div>"
      ],
      "text/plain": [
       "        UserId  Score\n",
       "146641  UserId    0.0"
      ]
     },
     "execution_count": 38,
     "metadata": {},
     "output_type": "execute_result"
    }
   ],
   "source": []
  }
 ],
 "metadata": {
  "kernelspec": {
   "display_name": "Python 3",
   "language": "python",
   "name": "python3"
  },
  "language_info": {
   "codemirror_mode": {
    "name": "ipython",
    "version": 3
   },
   "file_extension": ".py",
   "mimetype": "text/x-python",
   "name": "python",
   "nbconvert_exporter": "python",
   "pygments_lexer": "ipython3",
   "version": "3.10.6"
  },
  "orig_nbformat": 4
 },
 "nbformat": 4,
 "nbformat_minor": 2
}
