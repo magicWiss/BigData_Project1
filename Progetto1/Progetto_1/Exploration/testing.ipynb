{
 "cells": [
  {
   "attachments": {},
   "cell_type": "markdown",
   "metadata": {},
   "source": [
    "### Test dell'operazione di parsing.\n",
    "### Lettura del file Rev_Parsed.csv in modalità txt (line by line) e verifica se tutte le righe se splittate su , hanno 10 campi\n",
    "\n"
   ]
  },
  {
   "cell_type": "code",
   "execution_count": 3,
   "metadata": {},
   "outputs": [
    {
     "name": "stdout",
     "output_type": "stream",
     "text": [
      "Numb irregolar rows: 0\n"
     ]
    }
   ],
   "source": [
    "PATH_PARSED_CSV=r\"../Dataset/Rev_Parsed.csv\"\n",
    "\n",
    "with open(PATH_PARSED_CSV,'r') as reader:\n",
    "    lines=reader.readlines()\n",
    "\n",
    "    index_rows_not_having_10_cols=[]\n",
    "    i=-1    #index of row not having 10 columns (-1 headers, i>0 rows)\n",
    "    sum_lines_not_having_10_cols=0\n",
    "    for line in lines:\n",
    "        values=line.strip()\n",
    "        values=line.split(',')\n",
    "        numb_col=len(values)\n",
    "        if numb_col!=10:\n",
    "            sum_lines_not_having_10_cols+=1\n",
    "            index_rows_not_having_10_cols.append(i)\n",
    "        i+=1\n",
    "\n",
    "print('Numb irregolar rows:',sum_lines_not_having_10_cols)\n"
   ]
  }
 ],
 "metadata": {
  "kernelspec": {
   "display_name": "Python 3",
   "language": "python",
   "name": "python3"
  },
  "language_info": {
   "codemirror_mode": {
    "name": "ipython",
    "version": 3
   },
   "file_extension": ".py",
   "mimetype": "text/x-python",
   "name": "python",
   "nbconvert_exporter": "python",
   "pygments_lexer": "ipython3",
   "version": "3.10.6"
  },
  "orig_nbformat": 4
 },
 "nbformat": 4,
 "nbformat_minor": 2
}
