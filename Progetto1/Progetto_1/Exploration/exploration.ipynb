{
 "cells": [
  {
   "cell_type": "code",
   "execution_count": 2,
   "metadata": {},
   "outputs": [],
   "source": [
    "import pandas as pd"
   ]
  },
  {
   "cell_type": "code",
   "execution_count": 3,
   "metadata": {},
   "outputs": [],
   "source": [
    "ORIGINAL_DATA_PATH=r\"../Dataset/Reviews.csv\""
   ]
  },
  {
   "cell_type": "code",
   "execution_count": 4,
   "metadata": {},
   "outputs": [],
   "source": [
    "data=pd.read_csv(ORIGINAL_DATA_PATH)"
   ]
  },
  {
   "cell_type": "code",
   "execution_count": 5,
   "metadata": {},
   "outputs": [],
   "source": [
    "\n",
    "COLUMNS=list(data.columns)"
   ]
  },
  {
   "cell_type": "code",
   "execution_count": 6,
   "metadata": {},
   "outputs": [
    {
     "data": {
      "text/html": [
       "<div>\n",
       "<style scoped>\n",
       "    .dataframe tbody tr th:only-of-type {\n",
       "        vertical-align: middle;\n",
       "    }\n",
       "\n",
       "    .dataframe tbody tr th {\n",
       "        vertical-align: top;\n",
       "    }\n",
       "\n",
       "    .dataframe thead th {\n",
       "        text-align: right;\n",
       "    }\n",
       "</style>\n",
       "<table border=\"1\" class=\"dataframe\">\n",
       "  <thead>\n",
       "    <tr style=\"text-align: right;\">\n",
       "      <th></th>\n",
       "      <th>Id</th>\n",
       "      <th>ProductId</th>\n",
       "      <th>UserId</th>\n",
       "      <th>ProfileName</th>\n",
       "      <th>HelpfulnessNumerator</th>\n",
       "      <th>HelpfulnessDenominator</th>\n",
       "      <th>Score</th>\n",
       "      <th>Time</th>\n",
       "      <th>Summary</th>\n",
       "      <th>Text</th>\n",
       "    </tr>\n",
       "  </thead>\n",
       "  <tbody>\n",
       "    <tr>\n",
       "      <th>0</th>\n",
       "      <td>1</td>\n",
       "      <td>B001E4KFG0</td>\n",
       "      <td>A3SGXH7AUHU8GW</td>\n",
       "      <td>delmartian</td>\n",
       "      <td>1</td>\n",
       "      <td>1</td>\n",
       "      <td>5</td>\n",
       "      <td>1303862400</td>\n",
       "      <td>Good Quality Dog Food</td>\n",
       "      <td>I have bought several of the Vitality canned d...</td>\n",
       "    </tr>\n",
       "    <tr>\n",
       "      <th>1</th>\n",
       "      <td>2</td>\n",
       "      <td>B00813GRG4</td>\n",
       "      <td>A1D87F6ZCVE5NK</td>\n",
       "      <td>dll pa</td>\n",
       "      <td>0</td>\n",
       "      <td>0</td>\n",
       "      <td>1</td>\n",
       "      <td>1346976000</td>\n",
       "      <td>Not as Advertised</td>\n",
       "      <td>Product arrived labeled as Jumbo Salted Peanut...</td>\n",
       "    </tr>\n",
       "    <tr>\n",
       "      <th>2</th>\n",
       "      <td>3</td>\n",
       "      <td>B000LQOCH0</td>\n",
       "      <td>ABXLMWJIXXAIN</td>\n",
       "      <td>Natalia Corres \"Natalia Corres\"</td>\n",
       "      <td>1</td>\n",
       "      <td>1</td>\n",
       "      <td>4</td>\n",
       "      <td>1219017600</td>\n",
       "      <td>\"Delight\" says it all</td>\n",
       "      <td>This is a confection that has been around a fe...</td>\n",
       "    </tr>\n",
       "    <tr>\n",
       "      <th>3</th>\n",
       "      <td>4</td>\n",
       "      <td>B000UA0QIQ</td>\n",
       "      <td>A395BORC6FGVXV</td>\n",
       "      <td>Karl</td>\n",
       "      <td>3</td>\n",
       "      <td>3</td>\n",
       "      <td>2</td>\n",
       "      <td>1307923200</td>\n",
       "      <td>Cough Medicine</td>\n",
       "      <td>If you are looking for the secret ingredient i...</td>\n",
       "    </tr>\n",
       "    <tr>\n",
       "      <th>4</th>\n",
       "      <td>5</td>\n",
       "      <td>B006K2ZZ7K</td>\n",
       "      <td>A1UQRSCLF8GW1T</td>\n",
       "      <td>Michael D. Bigham \"M. Wassir\"</td>\n",
       "      <td>0</td>\n",
       "      <td>0</td>\n",
       "      <td>5</td>\n",
       "      <td>1350777600</td>\n",
       "      <td>Great taffy</td>\n",
       "      <td>Great taffy at a great price.  There was a wid...</td>\n",
       "    </tr>\n",
       "    <tr>\n",
       "      <th>5</th>\n",
       "      <td>6</td>\n",
       "      <td>B006K2ZZ7K</td>\n",
       "      <td>ADT0SRK1MGOEU</td>\n",
       "      <td>Twoapennything</td>\n",
       "      <td>0</td>\n",
       "      <td>0</td>\n",
       "      <td>4</td>\n",
       "      <td>1342051200</td>\n",
       "      <td>Nice Taffy</td>\n",
       "      <td>I got a wild hair for taffy and ordered this f...</td>\n",
       "    </tr>\n",
       "    <tr>\n",
       "      <th>6</th>\n",
       "      <td>7</td>\n",
       "      <td>B006K2ZZ7K</td>\n",
       "      <td>A1SP2KVKFXXRU1</td>\n",
       "      <td>David C. Sullivan</td>\n",
       "      <td>0</td>\n",
       "      <td>0</td>\n",
       "      <td>5</td>\n",
       "      <td>1340150400</td>\n",
       "      <td>Great!  Just as good as the expensive brands!</td>\n",
       "      <td>This saltwater taffy had great flavors and was...</td>\n",
       "    </tr>\n",
       "    <tr>\n",
       "      <th>7</th>\n",
       "      <td>8</td>\n",
       "      <td>B006K2ZZ7K</td>\n",
       "      <td>A3JRGQVEQN31IQ</td>\n",
       "      <td>Pamela G. Williams</td>\n",
       "      <td>0</td>\n",
       "      <td>0</td>\n",
       "      <td>5</td>\n",
       "      <td>1336003200</td>\n",
       "      <td>Wonderful, tasty taffy</td>\n",
       "      <td>This taffy is so good.  It is very soft and ch...</td>\n",
       "    </tr>\n",
       "    <tr>\n",
       "      <th>8</th>\n",
       "      <td>9</td>\n",
       "      <td>B000E7L2R4</td>\n",
       "      <td>A1MZYO9TZK0BBI</td>\n",
       "      <td>R. James</td>\n",
       "      <td>1</td>\n",
       "      <td>1</td>\n",
       "      <td>5</td>\n",
       "      <td>1322006400</td>\n",
       "      <td>Yay Barley</td>\n",
       "      <td>Right now I'm mostly just sprouting this so my...</td>\n",
       "    </tr>\n",
       "    <tr>\n",
       "      <th>9</th>\n",
       "      <td>10</td>\n",
       "      <td>B00171APVA</td>\n",
       "      <td>A21BT40VZCCYT4</td>\n",
       "      <td>Carol A. Reed</td>\n",
       "      <td>0</td>\n",
       "      <td>0</td>\n",
       "      <td>5</td>\n",
       "      <td>1351209600</td>\n",
       "      <td>Healthy Dog Food</td>\n",
       "      <td>This is a very healthy dog food. Good for thei...</td>\n",
       "    </tr>\n",
       "  </tbody>\n",
       "</table>\n",
       "</div>"
      ],
      "text/plain": [
       "   Id   ProductId          UserId                      ProfileName   \n",
       "0   1  B001E4KFG0  A3SGXH7AUHU8GW                       delmartian  \\\n",
       "1   2  B00813GRG4  A1D87F6ZCVE5NK                           dll pa   \n",
       "2   3  B000LQOCH0   ABXLMWJIXXAIN  Natalia Corres \"Natalia Corres\"   \n",
       "3   4  B000UA0QIQ  A395BORC6FGVXV                             Karl   \n",
       "4   5  B006K2ZZ7K  A1UQRSCLF8GW1T    Michael D. Bigham \"M. Wassir\"   \n",
       "5   6  B006K2ZZ7K   ADT0SRK1MGOEU                   Twoapennything   \n",
       "6   7  B006K2ZZ7K  A1SP2KVKFXXRU1                David C. Sullivan   \n",
       "7   8  B006K2ZZ7K  A3JRGQVEQN31IQ               Pamela G. Williams   \n",
       "8   9  B000E7L2R4  A1MZYO9TZK0BBI                         R. James   \n",
       "9  10  B00171APVA  A21BT40VZCCYT4                    Carol A. Reed   \n",
       "\n",
       "   HelpfulnessNumerator  HelpfulnessDenominator  Score        Time   \n",
       "0                     1                       1      5  1303862400  \\\n",
       "1                     0                       0      1  1346976000   \n",
       "2                     1                       1      4  1219017600   \n",
       "3                     3                       3      2  1307923200   \n",
       "4                     0                       0      5  1350777600   \n",
       "5                     0                       0      4  1342051200   \n",
       "6                     0                       0      5  1340150400   \n",
       "7                     0                       0      5  1336003200   \n",
       "8                     1                       1      5  1322006400   \n",
       "9                     0                       0      5  1351209600   \n",
       "\n",
       "                                         Summary   \n",
       "0                          Good Quality Dog Food  \\\n",
       "1                              Not as Advertised   \n",
       "2                          \"Delight\" says it all   \n",
       "3                                 Cough Medicine   \n",
       "4                                    Great taffy   \n",
       "5                                     Nice Taffy   \n",
       "6  Great!  Just as good as the expensive brands!   \n",
       "7                         Wonderful, tasty taffy   \n",
       "8                                     Yay Barley   \n",
       "9                               Healthy Dog Food   \n",
       "\n",
       "                                                Text  \n",
       "0  I have bought several of the Vitality canned d...  \n",
       "1  Product arrived labeled as Jumbo Salted Peanut...  \n",
       "2  This is a confection that has been around a fe...  \n",
       "3  If you are looking for the secret ingredient i...  \n",
       "4  Great taffy at a great price.  There was a wid...  \n",
       "5  I got a wild hair for taffy and ordered this f...  \n",
       "6  This saltwater taffy had great flavors and was...  \n",
       "7  This taffy is so good.  It is very soft and ch...  \n",
       "8  Right now I'm mostly just sprouting this so my...  \n",
       "9  This is a very healthy dog food. Good for thei...  "
      ]
     },
     "execution_count": 6,
     "metadata": {},
     "output_type": "execute_result"
    }
   ],
   "source": [
    "data.head(10)"
   ]
  },
  {
   "attachments": {},
   "cell_type": "markdown",
   "metadata": {},
   "source": [
    "#### Exploring the data in the dataset\n",
    "\n"
   ]
  },
  {
   "attachments": {},
   "cell_type": "markdown",
   "metadata": {},
   "source": [
    "#### Trovo i nan values \n"
   ]
  },
  {
   "cell_type": "code",
   "execution_count": 7,
   "metadata": {},
   "outputs": [],
   "source": [
    "def count_nan_values_for_col(data):\n",
    "    nan_values=data.isna()\n",
    "    cols=list(data.columns)\n",
    "    #dic col to nan values\n",
    "    col2nan={}\n",
    "    for i in cols:\n",
    "        col2nan[i]=nan_values[i].sum()\n",
    "    return col2nan"
   ]
  },
  {
   "cell_type": "code",
   "execution_count": 8,
   "metadata": {},
   "outputs": [
    {
     "data": {
      "text/plain": [
       "{'Id': 0,\n",
       " 'ProductId': 0,\n",
       " 'UserId': 0,\n",
       " 'ProfileName': 26,\n",
       " 'HelpfulnessNumerator': 0,\n",
       " 'HelpfulnessDenominator': 0,\n",
       " 'Score': 0,\n",
       " 'Time': 0,\n",
       " 'Summary': 27,\n",
       " 'Text': 0}"
      ]
     },
     "execution_count": 8,
     "metadata": {},
     "output_type": "execute_result"
    }
   ],
   "source": [
    "numb_nan_4_col=count_nan_values_for_col(data)\n",
    "numb_nan_4_col"
   ]
  },
  {
   "cell_type": "code",
   "execution_count": 9,
   "metadata": {},
   "outputs": [
    {
     "data": {
      "image/png": "[encoded data removed]",
      "text/plain": [
       "<Figure size 640x480 with 1 Axes>"
      ]
     },
     "metadata": {},
     "output_type": "display_data"
    }
   ],
   "source": [
    "import matplotlib.pyplot as plt\n",
    "keys = list(numb_nan_4_col.keys())\n",
    "values = list(numb_nan_4_col.values())\n",
    "\n",
    "# create a bar plot of the data using Matplotlib\n",
    "plt.bar(keys, values)\n",
    "\n",
    "# set the axis labels and title\n",
    "plt.xlabel('Column')\n",
    "plt.ylabel('#Nan')\n",
    "plt.xticks(rotation=45,fontsize=5)\n",
    "plt.title('Nan 4 col')\n",
    "\n",
    "# display the plot\n",
    "plt.show()"
   ]
  },
  {
   "cell_type": "code",
   "execution_count": 10,
   "metadata": {},
   "outputs": [],
   "source": [
    "#gli elementi aventi nan sono:\n",
    "#1) USER (utile per esercizio 1)\n",
    "#2) Summary (importante per lo split delle righe in fase di MAP)\n",
    "\n",
    "#POLITICA\n",
    "#Riempimento di tutte le celle nan con \"\"\n",
    "data.fillna(value='\"\"',inplace=True)"
   ]
  },
  {
   "cell_type": "code",
   "execution_count": 11,
   "metadata": {},
   "outputs": [
    {
     "data": {
      "text/plain": [
       "{'Id': 0,\n",
       " 'ProductId': 0,\n",
       " 'UserId': 0,\n",
       " 'ProfileName': 0,\n",
       " 'HelpfulnessNumerator': 0,\n",
       " 'HelpfulnessDenominator': 0,\n",
       " 'Score': 0,\n",
       " 'Time': 0,\n",
       " 'Summary': 0,\n",
       " 'Text': 0}"
      ]
     },
     "execution_count": 11,
     "metadata": {},
     "output_type": "execute_result"
    }
   ],
   "source": [
    "afer_parsing_nan_4_cols=count_nan_values_for_col(data)\n",
    "afer_parsing_nan_4_cols"
   ]
  },
  {
   "attachments": {},
   "cell_type": "markdown",
   "metadata": {},
   "source": [
    "### Il numero di , presenti in ogni riga è importante in fase di MAP.\n",
    "### Questo in quanto, leggendo l'input come testo, per accedere alle colonne specifiche è necessario splittare la riga utilizzando il\n",
    "### separatore di default (,). La presenza di un ',' in eccesso comporterebbe la creazione di un numero eccessivo di colonne per riga"
   ]
  },
  {
   "cell_type": "code",
   "execution_count": 12,
   "metadata": {},
   "outputs": [
    {
     "data": {
      "text/html": [
       "<div>\n",
       "<style scoped>\n",
       "    .dataframe tbody tr th:only-of-type {\n",
       "        vertical-align: middle;\n",
       "    }\n",
       "\n",
       "    .dataframe tbody tr th {\n",
       "        vertical-align: top;\n",
       "    }\n",
       "\n",
       "    .dataframe thead th {\n",
       "        text-align: right;\n",
       "    }\n",
       "</style>\n",
       "<table border=\"1\" class=\"dataframe\">\n",
       "  <thead>\n",
       "    <tr style=\"text-align: right;\">\n",
       "      <th></th>\n",
       "      <th>Id</th>\n",
       "      <th>ProductId</th>\n",
       "      <th>UserId</th>\n",
       "      <th>ProfileName</th>\n",
       "      <th>HelpfulnessNumerator</th>\n",
       "      <th>HelpfulnessDenominator</th>\n",
       "      <th>Score</th>\n",
       "      <th>Time</th>\n",
       "      <th>Summary</th>\n",
       "      <th>Text</th>\n",
       "      <th>true_comma_pop</th>\n",
       "    </tr>\n",
       "  </thead>\n",
       "  <tbody>\n",
       "    <tr>\n",
       "      <th>0</th>\n",
       "      <td>1</td>\n",
       "      <td>B001E4KFG0</td>\n",
       "      <td>A3SGXH7AUHU8GW</td>\n",
       "      <td>delmartian</td>\n",
       "      <td>1</td>\n",
       "      <td>1</td>\n",
       "      <td>5</td>\n",
       "      <td>1303862400</td>\n",
       "      <td>Good Quality Dog Food</td>\n",
       "      <td>I have bought several of the Vitality canned d...</td>\n",
       "      <td>9</td>\n",
       "    </tr>\n",
       "    <tr>\n",
       "      <th>1</th>\n",
       "      <td>2</td>\n",
       "      <td>B00813GRG4</td>\n",
       "      <td>A1D87F6ZCVE5NK</td>\n",
       "      <td>dll pa</td>\n",
       "      <td>0</td>\n",
       "      <td>0</td>\n",
       "      <td>1</td>\n",
       "      <td>1346976000</td>\n",
       "      <td>Not as Advertised</td>\n",
       "      <td>Product arrived labeled as Jumbo Salted Peanut...</td>\n",
       "      <td>9</td>\n",
       "    </tr>\n",
       "    <tr>\n",
       "      <th>2</th>\n",
       "      <td>3</td>\n",
       "      <td>B000LQOCH0</td>\n",
       "      <td>ABXLMWJIXXAIN</td>\n",
       "      <td>Natalia Corres \"Natalia Corres\"</td>\n",
       "      <td>1</td>\n",
       "      <td>1</td>\n",
       "      <td>4</td>\n",
       "      <td>1219017600</td>\n",
       "      <td>\"Delight\" says it all</td>\n",
       "      <td>This is a confection that has been around a fe...</td>\n",
       "      <td>9</td>\n",
       "    </tr>\n",
       "    <tr>\n",
       "      <th>3</th>\n",
       "      <td>4</td>\n",
       "      <td>B000UA0QIQ</td>\n",
       "      <td>A395BORC6FGVXV</td>\n",
       "      <td>Karl</td>\n",
       "      <td>3</td>\n",
       "      <td>3</td>\n",
       "      <td>2</td>\n",
       "      <td>1307923200</td>\n",
       "      <td>Cough Medicine</td>\n",
       "      <td>If you are looking for the secret ingredient i...</td>\n",
       "      <td>9</td>\n",
       "    </tr>\n",
       "    <tr>\n",
       "      <th>4</th>\n",
       "      <td>5</td>\n",
       "      <td>B006K2ZZ7K</td>\n",
       "      <td>A1UQRSCLF8GW1T</td>\n",
       "      <td>Michael D. Bigham \"M. Wassir\"</td>\n",
       "      <td>0</td>\n",
       "      <td>0</td>\n",
       "      <td>5</td>\n",
       "      <td>1350777600</td>\n",
       "      <td>Great taffy</td>\n",
       "      <td>Great taffy at a great price.  There was a wid...</td>\n",
       "      <td>9</td>\n",
       "    </tr>\n",
       "    <tr>\n",
       "      <th>5</th>\n",
       "      <td>6</td>\n",
       "      <td>B006K2ZZ7K</td>\n",
       "      <td>ADT0SRK1MGOEU</td>\n",
       "      <td>Twoapennything</td>\n",
       "      <td>0</td>\n",
       "      <td>0</td>\n",
       "      <td>4</td>\n",
       "      <td>1342051200</td>\n",
       "      <td>Nice Taffy</td>\n",
       "      <td>I got a wild hair for taffy and ordered this f...</td>\n",
       "      <td>9</td>\n",
       "    </tr>\n",
       "    <tr>\n",
       "      <th>6</th>\n",
       "      <td>7</td>\n",
       "      <td>B006K2ZZ7K</td>\n",
       "      <td>A1SP2KVKFXXRU1</td>\n",
       "      <td>David C. Sullivan</td>\n",
       "      <td>0</td>\n",
       "      <td>0</td>\n",
       "      <td>5</td>\n",
       "      <td>1340150400</td>\n",
       "      <td>Great!  Just as good as the expensive brands!</td>\n",
       "      <td>This saltwater taffy had great flavors and was...</td>\n",
       "      <td>9</td>\n",
       "    </tr>\n",
       "    <tr>\n",
       "      <th>7</th>\n",
       "      <td>8</td>\n",
       "      <td>B006K2ZZ7K</td>\n",
       "      <td>A3JRGQVEQN31IQ</td>\n",
       "      <td>Pamela G. Williams</td>\n",
       "      <td>0</td>\n",
       "      <td>0</td>\n",
       "      <td>5</td>\n",
       "      <td>1336003200</td>\n",
       "      <td>Wonderful, tasty taffy</td>\n",
       "      <td>This taffy is so good.  It is very soft and ch...</td>\n",
       "      <td>9</td>\n",
       "    </tr>\n",
       "    <tr>\n",
       "      <th>8</th>\n",
       "      <td>9</td>\n",
       "      <td>B000E7L2R4</td>\n",
       "      <td>A1MZYO9TZK0BBI</td>\n",
       "      <td>R. James</td>\n",
       "      <td>1</td>\n",
       "      <td>1</td>\n",
       "      <td>5</td>\n",
       "      <td>1322006400</td>\n",
       "      <td>Yay Barley</td>\n",
       "      <td>Right now I'm mostly just sprouting this so my...</td>\n",
       "      <td>9</td>\n",
       "    </tr>\n",
       "    <tr>\n",
       "      <th>9</th>\n",
       "      <td>10</td>\n",
       "      <td>B00171APVA</td>\n",
       "      <td>A21BT40VZCCYT4</td>\n",
       "      <td>Carol A. Reed</td>\n",
       "      <td>0</td>\n",
       "      <td>0</td>\n",
       "      <td>5</td>\n",
       "      <td>1351209600</td>\n",
       "      <td>Healthy Dog Food</td>\n",
       "      <td>This is a very healthy dog food. Good for thei...</td>\n",
       "      <td>9</td>\n",
       "    </tr>\n",
       "  </tbody>\n",
       "</table>\n",
       "</div>"
      ],
      "text/plain": [
       "   Id   ProductId          UserId                      ProfileName   \n",
       "0   1  B001E4KFG0  A3SGXH7AUHU8GW                       delmartian  \\\n",
       "1   2  B00813GRG4  A1D87F6ZCVE5NK                           dll pa   \n",
       "2   3  B000LQOCH0   ABXLMWJIXXAIN  Natalia Corres \"Natalia Corres\"   \n",
       "3   4  B000UA0QIQ  A395BORC6FGVXV                             Karl   \n",
       "4   5  B006K2ZZ7K  A1UQRSCLF8GW1T    Michael D. Bigham \"M. Wassir\"   \n",
       "5   6  B006K2ZZ7K   ADT0SRK1MGOEU                   Twoapennything   \n",
       "6   7  B006K2ZZ7K  A1SP2KVKFXXRU1                David C. Sullivan   \n",
       "7   8  B006K2ZZ7K  A3JRGQVEQN31IQ               Pamela G. Williams   \n",
       "8   9  B000E7L2R4  A1MZYO9TZK0BBI                         R. James   \n",
       "9  10  B00171APVA  A21BT40VZCCYT4                    Carol A. Reed   \n",
       "\n",
       "   HelpfulnessNumerator  HelpfulnessDenominator  Score        Time   \n",
       "0                     1                       1      5  1303862400  \\\n",
       "1                     0                       0      1  1346976000   \n",
       "2                     1                       1      4  1219017600   \n",
       "3                     3                       3      2  1307923200   \n",
       "4                     0                       0      5  1350777600   \n",
       "5                     0                       0      4  1342051200   \n",
       "6                     0                       0      5  1340150400   \n",
       "7                     0                       0      5  1336003200   \n",
       "8                     1                       1      5  1322006400   \n",
       "9                     0                       0      5  1351209600   \n",
       "\n",
       "                                         Summary   \n",
       "0                          Good Quality Dog Food  \\\n",
       "1                              Not as Advertised   \n",
       "2                          \"Delight\" says it all   \n",
       "3                                 Cough Medicine   \n",
       "4                                    Great taffy   \n",
       "5                                     Nice Taffy   \n",
       "6  Great!  Just as good as the expensive brands!   \n",
       "7                         Wonderful, tasty taffy   \n",
       "8                                     Yay Barley   \n",
       "9                               Healthy Dog Food   \n",
       "\n",
       "                                                Text  true_comma_pop  \n",
       "0  I have bought several of the Vitality canned d...               9  \n",
       "1  Product arrived labeled as Jumbo Salted Peanut...               9  \n",
       "2  This is a confection that has been around a fe...               9  \n",
       "3  If you are looking for the secret ingredient i...               9  \n",
       "4  Great taffy at a great price.  There was a wid...               9  \n",
       "5  I got a wild hair for taffy and ordered this f...               9  \n",
       "6  This saltwater taffy had great flavors and was...               9  \n",
       "7  This taffy is so good.  It is very soft and ch...               9  \n",
       "8  Right now I'm mostly just sprouting this so my...               9  \n",
       "9  This is a very healthy dog food. Good for thei...               9  "
      ]
     },
     "execution_count": 12,
     "metadata": {},
     "output_type": "execute_result"
    }
   ],
   "source": [
    "#Prendo il numero ideale di ',' che dovrebbero esserci (#colonne - 1)\n",
    "data['true_comma_pop']=len(COLUMNS)-1\n",
    "data.head(10)\n",
    "\n",
    "\n"
   ]
  },
  {
   "cell_type": "code",
   "execution_count": 13,
   "metadata": {},
   "outputs": [],
   "source": [
    "#checking"
   ]
  },
  {
   "cell_type": "code",
   "execution_count": 14,
   "metadata": {},
   "outputs": [],
   "source": [
    "def count_commas(data):\n",
    "    \n",
    "    return data.count(',')"
   ]
  },
  {
   "cell_type": "code",
   "execution_count": 15,
   "metadata": {},
   "outputs": [],
   "source": [
    "data['Text_extra_commas']=data['Text'].apply(count_commas)\n",
    "data['Summary_extra_commas']=data['Summary'].apply(count_commas)\n",
    "data['ProfileName_extra_commas']=data['ProfileName'].apply(count_commas)"
   ]
  },
  {
   "cell_type": "code",
   "execution_count": 16,
   "metadata": {},
   "outputs": [],
   "source": [
    "extra_commas_ProfileName=data[data['ProfileName_extra_commas']>0]"
   ]
  },
  {
   "cell_type": "code",
   "execution_count": 17,
   "metadata": {},
   "outputs": [],
   "source": [
    "extra_commas_Summary=data[data['Summary_extra_commas']>0]"
   ]
  },
  {
   "cell_type": "code",
   "execution_count": 18,
   "metadata": {},
   "outputs": [],
   "source": [
    "extra_commas_Text=data[data['Text_extra_commas']>0]"
   ]
  },
  {
   "cell_type": "code",
   "execution_count": 19,
   "metadata": {},
   "outputs": [
    {
     "name": "stdout",
     "output_type": "stream",
     "text": [
      "%Rows with comma in ProfileName: 0.007335685913020227\n",
      "%Rows with comma in Summary: 0.09454414957058971\n",
      "%Rows with comma in Text: 0.7259496810647827\n"
     ]
    }
   ],
   "source": [
    "perc_rows_extra_comma_ProfileName=len(extra_commas_ProfileName)/len(data)\n",
    "perc_rows_extra_comma_Summary=len(extra_commas_Summary)/len(data)\n",
    "perc_rows_extra_comma_Text=len(extra_commas_Text)/len(data)\n",
    "\n",
    "print(\"%Rows with comma in ProfileName:\",perc_rows_extra_comma_ProfileName)\n",
    "print(\"%Rows with comma in Summary:\", perc_rows_extra_comma_Summary)\n",
    "print(\"%Rows with comma in Text:\",perc_rows_extra_comma_Text)"
   ]
  },
  {
   "cell_type": "code",
   "execution_count": 20,
   "metadata": {},
   "outputs": [
    {
     "data": {
      "text/plain": [
       "281                    Little D, Nigel, and Oliver's mom\n",
       "522      Betty L. Dravis \"BETTY DRAVIS, author/reviewer\"\n",
       "895           Kort \"Art, Music, Book & Movie Enthusiast\"\n",
       "1332                                  Zhills,Florida USA\n",
       "1349    Catherine A. Sullivan \"Catherine,Serene Butte...\n",
       "1381    K. Crowe \"I may make you feel, but I can't ma...\n",
       "1395                            Brian F., Gloucester, MA\n",
       "1404       J. Nusz \"Author, reviewer & graphic designer\"\n",
       "1407                  from Hampton, VA \"amazon customer\"\n",
       "1449    Arthur Thomas \"Jesus, John Denver, and Judas ...\n",
       "1495             Krystal-Karma \"Blessings, Joy and Love\"\n",
       "1505                      Joanne \"Gotta Eat, Gotta Cook\"\n",
       "1956                                  Cecil R. Redd, Jr.\n",
       "2088        Robert \"Member since, heck I forgot........\"\n",
       "2568    Joan A. Adamak \"Joan  Adamak, Author and Book...\n",
       "2909            William C. Meyer \"Bill/Ginny-Howell, NJ\"\n",
       "2958    D. P. Wright \"If it ain't broke, I'm gonna fi...\n",
       "3012          Kort \"Art, Music, Book & Movie Enthusiast\"\n",
       "3017        N. Ferguson \"Two, Daisy, Hannah, and Kitten\"\n",
       "3108                                kaaris \"mom, artist\"\n",
       "Name: ProfileName, dtype: object"
      ]
     },
     "execution_count": 20,
     "metadata": {},
     "output_type": "execute_result"
    }
   ],
   "source": [
    "#Samples dei dati nei casi specificati\n",
    "#PROFILE NAME\n",
    "extra_commas_ProfileName['ProfileName'].head(20)"
   ]
  },
  {
   "cell_type": "code",
   "execution_count": 21,
   "metadata": {},
   "outputs": [
    {
     "data": {
      "text/plain": [
       "7                                 Wonderful, tasty taffy\n",
       "15              Lots of twizzlers, just what you expect.\n",
       "97        Great allergy sensitive dog food, dogs love it\n",
       "135                Tastes great, but is cheaper locally.\n",
       "163                                    Right size, taste\n",
       "173             Fluffy, Soft, Delicious and Sugary Sweet\n",
       "179            relaxing, almost like something you smoke\n",
       "186         Make a fresh fruit tart, light and beautiful\n",
       "194                       Nice little mints, but pricey.\n",
       "204                             Love 'em, they're great!\n",
       "209    better than average, more expensive than average.\n",
       "235             Taste is neutral, quantity is DECEITFUL!\n",
       "255    If you can't handle caffeine, this is not for ...\n",
       "256                                  Yum, Yummy, Yummier\n",
       "284                it's fabulous, but *not* from amazon!\n",
       "291    The best energy shot out there, smooth and org...\n",
       "292                            Fantastic, natural energy\n",
       "304               Flavor getting better, energy is great\n",
       "333                Yes, this is real excellent coffee!!!\n",
       "338                                  Tasty, tasty tasty!\n",
       "Name: Summary, dtype: object"
      ]
     },
     "execution_count": 21,
     "metadata": {},
     "output_type": "execute_result"
    }
   ],
   "source": [
    "#SUMMARY\n",
    "extra_commas_Summary['Summary'].head(20)"
   ]
  },
  {
   "cell_type": "code",
   "execution_count": 22,
   "metadata": {},
   "outputs": [
    {
     "data": {
      "text/plain": [
       "2     This is a confection that has been around a fe...\n",
       "4     Great taffy at a great price.  There was a wid...\n",
       "5     I got a wild hair for taffy and ordered this f...\n",
       "6     This saltwater taffy had great flavors and was...\n",
       "10    I don't know if it's the cactus or the tequila...\n",
       "11    One of my boys needed to lose some weight and ...\n",
       "12    My cats have been happily eating Felidae Plati...\n",
       "18    Twizzlers, Strawberry my childhood favorite ca...\n",
       "20    My husband is a Twizzlers addict.  We've bough...\n",
       "21    I bought these for my husband who is currently...\n",
       "24    I have lived out of the US for over 7 yrs now,...\n",
       "25    Product received is as advertised.<br /><br />...\n",
       "26    The candy is just red , No flavor . Just  plan...\n",
       "28    I got this for my Mum who is not diabetic but ...\n",
       "29    I don't know if it's the cactus or the tequila...\n",
       "30    I have never been a huge coffee fan. However, ...\n",
       "31    This offer is a great price and a great taste,...\n",
       "32    McCann's Instant Oatmeal is great if you must ...\n",
       "33    This is a good instant oatmeal from the best o...\n",
       "34    Instant oatmeal can become soggy the minute th...\n",
       "Name: Text, dtype: object"
      ]
     },
     "execution_count": 22,
     "metadata": {},
     "output_type": "execute_result"
    }
   ],
   "source": [
    "#TEXT\n",
    "extra_commas_Text['Text'].head(20)"
   ]
  },
  {
   "attachments": {},
   "cell_type": "markdown",
   "metadata": {},
   "source": [
    "### Modo migliore per eliminare tali casistiche->Sostituire tutti i ',' con ''\n"
   ]
  },
  {
   "attachments": {},
   "cell_type": "markdown",
   "metadata": {},
   "source": [
    "# Parsing"
   ]
  },
  {
   "cell_type": "code",
   "execution_count": 23,
   "metadata": {},
   "outputs": [],
   "source": [
    "def clear_data(line):\n",
    "    line=line.replace(',','')\n",
    "    return line\n",
    "\n",
    "\n",
    "#Per ogni colonna da parsare effettuo il parsin->clear data\n",
    "def parse_data(data,cols):\n",
    "    for i in cols:\n",
    "        data[i]=data[i].apply(clear_data)\n",
    "    return data\n"
   ]
  },
  {
   "cell_type": "code",
   "execution_count": 24,
   "metadata": {},
   "outputs": [],
   "source": [
    "#Rimozione delle , nei campi individuati\n",
    "\n",
    "parsed_data=pd.DataFrame.copy(data,deep=True) #deep copy del dato originale\n",
    "\n",
    "cols_to_parse=['Text','Summary','ProfileName']\n",
    "\n",
    "#parsing\n",
    "parsed_data=parse_data(parsed_data,cols_to_parse)\n",
    "\n",
    "\n",
    "\n"
   ]
  },
  {
   "cell_type": "code",
   "execution_count": 25,
   "metadata": {},
   "outputs": [
    {
     "name": "stdout",
     "output_type": "stream",
     "text": [
      "Commas in Text after parsing: 0\n",
      "Commas in ProfileName after parsing: 0\n",
      "Commas in Summary after parsing: 0\n"
     ]
    }
   ],
   "source": [
    "#verifica\n",
    "commas_in_text=parsed_data['Text'].apply(count_commas).sum()\n",
    "commas_in_ProfileName=parsed_data['ProfileName'].apply(count_commas).sum()\n",
    "commas_in_Summary=parsed_data['Summary'].apply(count_commas).sum()\n",
    "\n",
    "print('Commas in Text after parsing:',commas_in_text)\n",
    "print('Commas in ProfileName after parsing:',commas_in_ProfileName)\n",
    "print('Commas in Summary after parsing:',commas_in_Summary)"
   ]
  },
  {
   "cell_type": "code",
   "execution_count": 26,
   "metadata": {},
   "outputs": [
    {
     "name": "stdout",
     "output_type": "stream",
     "text": [
      "[ORG] This is a confection that has been around a few centuries.  It is a light, pillowy citrus gelatin with nuts - in this case Filberts. And it is cut into tiny squares and then liberally coated with powdered sugar.  And it is a tiny mouthful of heaven.  Not too chewy, and very flavorful.  I highly recommend this yummy treat.  If you are familiar with the story of C.S. Lewis' \"The Lion, The Witch, and The Wardrobe\" - this is the treat that seduces Edmund into selling out his Brother and Sisters to the Witch.\n",
      "[PARSED] This is a confection that has been around a few centuries.  It is a light pillowy citrus gelatin with nuts - in this case Filberts. And it is cut into tiny squares and then liberally coated with powdered sugar.  And it is a tiny mouthful of heaven.  Not too chewy and very flavorful.  I highly recommend this yummy treat.  If you are familiar with the story of C.S. Lewis' \"The Lion The Witch and The Wardrobe\" - this is the treat that seduces Edmund into selling out his Brother and Sisters to the Witch. \n",
      "\n",
      "[ORG] Great taffy at a great price.  There was a wide assortment of yummy taffy.  Delivery was very quick.  If your a taffy lover, this is a deal.\n",
      "[PARSED] Great taffy at a great price.  There was a wide assortment of yummy taffy.  Delivery was very quick.  If your a taffy lover this is a deal. \n",
      "\n",
      "[ORG] I got a wild hair for taffy and ordered this five pound bag. The taffy was all very enjoyable with many flavors: watermelon, root beer, melon, peppermint, grape, etc. My only complaint is there was a bit too much red/black licorice-flavored pieces (just not my particular favorites). Between me, my kids, and my husband, this lasted only two weeks! I would recommend this brand of taffy -- it was a delightful treat.\n",
      "[PARSED] I got a wild hair for taffy and ordered this five pound bag. The taffy was all very enjoyable with many flavors: watermelon root beer melon peppermint grape etc. My only complaint is there was a bit too much red/black licorice-flavored pieces (just not my particular favorites). Between me my kids and my husband this lasted only two weeks! I would recommend this brand of taffy -- it was a delightful treat. \n",
      "\n",
      "[ORG] This saltwater taffy had great flavors and was very soft and chewy.  Each candy was individually wrapped well.  None of the candies were stuck together, which did happen in the expensive version, Fralinger's.  Would highly recommend this candy!  I served it at a beach-themed party and everyone loved it!\n",
      "[PARSED] This saltwater taffy had great flavors and was very soft and chewy.  Each candy was individually wrapped well.  None of the candies were stuck together which did happen in the expensive version Fralinger's.  Would highly recommend this candy!  I served it at a beach-themed party and everyone loved it! \n",
      "\n",
      "[ORG] I don't know if it's the cactus or the tequila or just the unique combination of ingredients, but the flavour of this hot sauce makes it one of a kind!  We picked up a bottle once on a trip we were on and brought it back home with us and were totally blown away!  When we realized that we simply couldn't find it anywhere in our city we were bummed.<br /><br />Now, because of the magic of the internet, we have a case of the sauce and are ecstatic because of it.<br /><br />If you love hot sauce..I mean really love hot sauce, but don't want a sauce that tastelessly burns your throat, grab a bottle of Tequila Picante Gourmet de Inclan.  Just realize that once you taste it, you will never want to use any other sauce.<br /><br />Thank you for the personal, incredible service!\n",
      "[PARSED] I don't know if it's the cactus or the tequila or just the unique combination of ingredients but the flavour of this hot sauce makes it one of a kind!  We picked up a bottle once on a trip we were on and brought it back home with us and were totally blown away!  When we realized that we simply couldn't find it anywhere in our city we were bummed.<br /><br />Now because of the magic of the internet we have a case of the sauce and are ecstatic because of it.<br /><br />If you love hot sauce..I mean really love hot sauce but don't want a sauce that tastelessly burns your throat grab a bottle of Tequila Picante Gourmet de Inclan.  Just realize that once you taste it you will never want to use any other sauce.<br /><br />Thank you for the personal incredible service! \n",
      "\n",
      "[ORG] One of my boys needed to lose some weight and the other didn't.  I put this food on the floor for the chubby guy, and the protein-rich, no by-product food up higher where only my skinny boy can jump.  The higher food sits going stale.  They both really go for this food.  And my chubby boy has been losing about an ounce a week.\n",
      "[PARSED] One of my boys needed to lose some weight and the other didn't.  I put this food on the floor for the chubby guy and the protein-rich no by-product food up higher where only my skinny boy can jump.  The higher food sits going stale.  They both really go for this food.  And my chubby boy has been losing about an ounce a week. \n",
      "\n",
      "[ORG] My cats have been happily eating Felidae Platinum for more than two years. I just got a new bag and the shape of the food is different. They tried the new food when I first put it in their bowls and now the bowls sit full and the kitties will not touch the food. I've noticed similar reviews related to formula changes in the past. Unfortunately, I now need to find a new food that my cats will eat.\n",
      "[PARSED] My cats have been happily eating Felidae Platinum for more than two years. I just got a new bag and the shape of the food is different. They tried the new food when I first put it in their bowls and now the bowls sit full and the kitties will not touch the food. I've noticed similar reviews related to formula changes in the past. Unfortunately I now need to find a new food that my cats will eat. \n",
      "\n",
      "[ORG] Twizzlers, Strawberry my childhood favorite candy, made in Lancaster Pennsylvania by Y & S Candies, Inc. one of the oldest confectionery Firms in the United States, now a Subsidiary of the Hershey Company, the Company was established in 1845 as Young and Smylie, they also make Apple Licorice Twists, Green Color and Blue Raspberry Licorice Twists, I like them all<br /><br />I keep it in a dry cool place because is not recommended it to put it in the fridge. According to the Guinness Book of Records, the longest Licorice Twist ever made measured 1.200 Feet (370 M) and weighted 100 Pounds (45 Kg) and was made by Y & S Candies, Inc. This Record-Breaking Twist became a Guinness World Record on July 19, 1998. This Product is Kosher! Thank You\n",
      "[PARSED] Twizzlers Strawberry my childhood favorite candy made in Lancaster Pennsylvania by Y & S Candies Inc. one of the oldest confectionery Firms in the United States now a Subsidiary of the Hershey Company the Company was established in 1845 as Young and Smylie they also make Apple Licorice Twists Green Color and Blue Raspberry Licorice Twists I like them all<br /><br />I keep it in a dry cool place because is not recommended it to put it in the fridge. According to the Guinness Book of Records the longest Licorice Twist ever made measured 1.200 Feet (370 M) and weighted 100 Pounds (45 Kg) and was made by Y & S Candies Inc. This Record-Breaking Twist became a Guinness World Record on July 19 1998. This Product is Kosher! Thank You \n",
      "\n",
      "[ORG] My husband is a Twizzlers addict.  We've bought these many times from Amazon because we're government employees living overseas and can't get them in the country we are assigned to.  They've always been fresh and tasty, packed well and arrive in a timely manner.\n",
      "[PARSED] My husband is a Twizzlers addict.  We've bought these many times from Amazon because we're government employees living overseas and can't get them in the country we are assigned to.  They've always been fresh and tasty packed well and arrive in a timely manner. \n",
      "\n",
      "[ORG] I bought these for my husband who is currently overseas. He loves these, and apparently his staff likes them also.<br />There are generous amounts of Twizzlers in each 16-ounce bag, and this was well worth the price. <a href=\"http://www.amazon.com/gp/product/B001GVISJM\">Twizzlers, Strawberry, 16-Ounce Bags (Pack of 6)</a>\n",
      "[PARSED] I bought these for my husband who is currently overseas. He loves these and apparently his staff likes them also.<br />There are generous amounts of Twizzlers in each 16-ounce bag and this was well worth the price. <a href=\"http://www.amazon.com/gp/product/B001GVISJM\">Twizzlers Strawberry 16-Ounce Bags (Pack of 6)</a> \n",
      "\n",
      "[ORG] I have lived out of the US for over 7 yrs now, and I so miss my Twizzlers!!  When I go back to visit or someone visits me, I always stock up.  All I can say is YUM!<br />Sell these in Mexico and you will have a faithful buyer, more often than I'm able to buy them right now.\n",
      "[PARSED] I have lived out of the US for over 7 yrs now and I so miss my Twizzlers!!  When I go back to visit or someone visits me I always stock up.  All I can say is YUM!<br />Sell these in Mexico and you will have a faithful buyer more often than I'm able to buy them right now. \n",
      "\n",
      "[ORG] Product received is as advertised.<br /><br /><a href=\"http://www.amazon.com/gp/product/B001GVISJM\">Twizzlers, Strawberry, 16-Ounce Bags (Pack of 6)</a>\n",
      "[PARSED] Product received is as advertised.<br /><br /><a href=\"http://www.amazon.com/gp/product/B001GVISJM\">Twizzlers Strawberry 16-Ounce Bags (Pack of 6)</a> \n",
      "\n",
      "[ORG] The candy is just red , No flavor . Just  plan and chewy .  I would never buy them again\n",
      "[PARSED] The candy is just red  No flavor . Just  plan and chewy .  I would never buy them again \n",
      "\n",
      "[ORG] I got this for my Mum who is not diabetic but needs to watch her sugar intake, and my father who simply chooses to limit unnecessary sugar intake - she's the one with the sweet tooth - they both LOVED these toffees, you would never guess that they're sugar-free and it's so great that you can eat them pretty much guilt free!  i was so impressed that i've ordered some for myself (w dark chocolate) to take to the office so i'll eat them instead of snacking on sugary sweets.<br />These are just EXCELLENT!\n",
      "[PARSED] I got this for my Mum who is not diabetic but needs to watch her sugar intake and my father who simply chooses to limit unnecessary sugar intake - she's the one with the sweet tooth - they both LOVED these toffees you would never guess that they're sugar-free and it's so great that you can eat them pretty much guilt free!  i was so impressed that i've ordered some for myself (w dark chocolate) to take to the office so i'll eat them instead of snacking on sugary sweets.<br />These are just EXCELLENT! \n",
      "\n",
      "[ORG] I don't know if it's the cactus or the tequila or just the unique combination of ingredients, but the flavour of this hot sauce makes it one of a kind!  We picked up a bottle once on a trip we were on and brought it back home with us and were totally blown away!  When we realized that we simply couldn't find it anywhere in our city we were bummed.<br /><br />Now, because of the magic of the internet, we have a case of the sauce and are ecstatic because of it.<br /><br />If you love hot sauce..I mean really love hot sauce, but don't want a sauce that tastelessly burns your throat, grab a bottle of Tequila Picante Gourmet de Inclan.  Just realize that once you taste it, you will never want to use any other sauce.<br /><br />Thank you for the personal, incredible service!\n",
      "[PARSED] I don't know if it's the cactus or the tequila or just the unique combination of ingredients but the flavour of this hot sauce makes it one of a kind!  We picked up a bottle once on a trip we were on and brought it back home with us and were totally blown away!  When we realized that we simply couldn't find it anywhere in our city we were bummed.<br /><br />Now because of the magic of the internet we have a case of the sauce and are ecstatic because of it.<br /><br />If you love hot sauce..I mean really love hot sauce but don't want a sauce that tastelessly burns your throat grab a bottle of Tequila Picante Gourmet de Inclan.  Just realize that once you taste it you will never want to use any other sauce.<br /><br />Thank you for the personal incredible service! \n",
      "\n",
      "[ORG] I have never been a huge coffee fan. However, my mother purchased this little machine and talked me into trying the Latte Macciato. No Coffee Shop has a better one and I like most of the other products, too (as a usually non-coffee drinker!).<br />The little Dolche Guesto Machine is super easy to use and prepares a really good Coffee/Latte/Cappuccino/etc in less than a minute (if water is heated up). I would recommend the Dolce Gusto to anyone. Too good for the price and I'am getting one myself! :)\n",
      "[PARSED] I have never been a huge coffee fan. However my mother purchased this little machine and talked me into trying the Latte Macciato. No Coffee Shop has a better one and I like most of the other products too (as a usually non-coffee drinker!).<br />The little Dolche Guesto Machine is super easy to use and prepares a really good Coffee/Latte/Cappuccino/etc in less than a minute (if water is heated up). I would recommend the Dolce Gusto to anyone. Too good for the price and I'am getting one myself! :) \n",
      "\n",
      "[ORG] This offer is a great price and a great taste, thanks Amazon for selling this product.<br /><br />Staral\n",
      "[PARSED] This offer is a great price and a great taste thanks Amazon for selling this product.<br /><br />Staral \n",
      "\n",
      "[ORG] McCann's Instant Oatmeal is great if you must have your oatmeal but can only scrape together two or three minutes to prepare it. There is no escaping the fact, however, that even the best instant oatmeal is nowhere near as good as even a store brand of oatmeal requiring stovetop preparation.  Still, the McCann's is as good as it gets for instant oatmeal. It's even better than the organic, all-natural brands I have tried.  All the varieties in the McCann's variety pack taste good.  It can be prepared in the microwave or by adding boiling water so it is convenient in the extreme when time is an issue.<br /><br />McCann's use of actual cane sugar instead of high fructose corn syrup helped me decide to buy this product.  Real sugar tastes better and is not as harmful as the other stuff. One thing I do not like, though, is McCann's use of thickeners.  Oats plus water plus heat should make a creamy, tasty oatmeal without the need for guar gum. But this is a convenience product.  Maybe the guar gum is why, after sitting in the bowl a while, the instant McCann's becomes too thick and gluey.\n",
      "[PARSED] McCann's Instant Oatmeal is great if you must have your oatmeal but can only scrape together two or three minutes to prepare it. There is no escaping the fact however that even the best instant oatmeal is nowhere near as good as even a store brand of oatmeal requiring stovetop preparation.  Still the McCann's is as good as it gets for instant oatmeal. It's even better than the organic all-natural brands I have tried.  All the varieties in the McCann's variety pack taste good.  It can be prepared in the microwave or by adding boiling water so it is convenient in the extreme when time is an issue.<br /><br />McCann's use of actual cane sugar instead of high fructose corn syrup helped me decide to buy this product.  Real sugar tastes better and is not as harmful as the other stuff. One thing I do not like though is McCann's use of thickeners.  Oats plus water plus heat should make a creamy tasty oatmeal without the need for guar gum. But this is a convenience product.  Maybe the guar gum is why after sitting in the bowl a while the instant McCann's becomes too thick and gluey. \n",
      "\n",
      "[ORG] This is a good instant oatmeal from the best oatmeal brand.  It uses cane sugar instead of high fructouse corn syrup, so not only does it have a better sweetness, but some doctors now say that this form of sugar is better for you.  Great on a cold morning when you don't have time to make McCann's Steel Cut Oats.  The apple cinnamon is the best but the maple and brown sugar or the regular are good too.  Plus they don't require doctoring to actually tell the three flavors apart.\n",
      "[PARSED] This is a good instant oatmeal from the best oatmeal brand.  It uses cane sugar instead of high fructouse corn syrup so not only does it have a better sweetness but some doctors now say that this form of sugar is better for you.  Great on a cold morning when you don't have time to make McCann's Steel Cut Oats.  The apple cinnamon is the best but the maple and brown sugar or the regular are good too.  Plus they don't require doctoring to actually tell the three flavors apart. \n",
      "\n",
      "[ORG] Instant oatmeal can become soggy the minute the water hits the bowl. McCann's Instant Oatmeal holds its texture, has excellent flavor, and is good for you all at the same time. McCann's regular oat meal is excellent, too, but may take a bit longer to prepare than most have time for in the morning. This is the best instant brand I've ever eaten, and a very close second to the non-instant variety.<br /><br />McCann's Instant Irish Oatmeal, Variety Pack of Regular, Apples & Cinnamon, and Maple & Brown Sugar, 10-Count Boxes (Pack of 6)\n",
      "[PARSED] Instant oatmeal can become soggy the minute the water hits the bowl. McCann's Instant Oatmeal holds its texture has excellent flavor and is good for you all at the same time. McCann's regular oat meal is excellent too but may take a bit longer to prepare than most have time for in the morning. This is the best instant brand I've ever eaten and a very close second to the non-instant variety.<br /><br />McCann's Instant Irish Oatmeal Variety Pack of Regular Apples & Cinnamon and Maple & Brown Sugar 10-Count Boxes (Pack of 6) \n",
      "\n"
     ]
    }
   ],
   "source": [
    "#EXAMPLE TEXT \n",
    "index_text_rows_w_comma_original_data=extra_commas_Text['Text'].head(20).index\n",
    "for i in index_text_rows_w_comma_original_data:\n",
    "    print('[ORG]',data['Text'].iloc[i])\n",
    "    print('[PARSED]',parsed_data['Text'].iloc[i],'\\n')"
   ]
  },
  {
   "cell_type": "code",
   "execution_count": 27,
   "metadata": {},
   "outputs": [
    {
     "name": "stdout",
     "output_type": "stream",
     "text": [
      "[ORG] Little D, Nigel, and Oliver's mom\n",
      "[PARSED] Little D Nigel and Oliver's mom \n",
      "\n",
      "[ORG] Betty L. Dravis \"BETTY DRAVIS, author/reviewer\"\n",
      "[PARSED] Betty L. Dravis \"BETTY DRAVIS author/reviewer\" \n",
      "\n",
      "[ORG] Kort \"Art, Music, Book & Movie Enthusiast\"\n",
      "[PARSED] Kort \"Art Music Book & Movie Enthusiast\" \n",
      "\n",
      "[ORG] Zhills,Florida USA\n",
      "[PARSED] ZhillsFlorida USA \n",
      "\n",
      "[ORG] Catherine A. Sullivan \"Catherine,Serene Butte...\n",
      "[PARSED] Catherine A. Sullivan \"CatherineSerene Butte... \n",
      "\n"
     ]
    }
   ],
   "source": [
    "#EXAMPLE PROFILENAME\n",
    "index_text_rows_w_comma_original_data=extra_commas_ProfileName['ProfileName'].head(5).index\n",
    "for i in index_text_rows_w_comma_original_data:\n",
    "    print('[ORG]',data['ProfileName'].iloc[i])\n",
    "    print('[PARSED]',parsed_data['ProfileName'].iloc[i],'\\n')"
   ]
  },
  {
   "cell_type": "code",
   "execution_count": 28,
   "metadata": {},
   "outputs": [
    {
     "name": "stdout",
     "output_type": "stream",
     "text": [
      "[ORG] Wonderful, tasty taffy\n",
      "[PARSED] Wonderful tasty taffy \n",
      "\n",
      "[ORG] Lots of twizzlers, just what you expect.\n",
      "[PARSED] Lots of twizzlers just what you expect. \n",
      "\n",
      "[ORG] Great allergy sensitive dog food, dogs love it\n",
      "[PARSED] Great allergy sensitive dog food dogs love it \n",
      "\n",
      "[ORG] Tastes great, but is cheaper locally.\n",
      "[PARSED] Tastes great but is cheaper locally. \n",
      "\n",
      "[ORG] Right size, taste\n",
      "[PARSED] Right size taste \n",
      "\n"
     ]
    }
   ],
   "source": [
    "#EXAMPLE SUMMARY\n",
    "index_text_rows_w_comma_original_data=extra_commas_Summary['Summary'].head(5).index\n",
    "for i in index_text_rows_w_comma_original_data:\n",
    "    print('[ORG]',data['Summary'].iloc[i])\n",
    "    print('[PARSED]',parsed_data['Summary'].iloc[i],'\\n')"
   ]
  },
  {
   "attachments": {},
   "cell_type": "markdown",
   "metadata": {},
   "source": [
    "### SALVATAGGIO DATI PARSATI\n"
   ]
  },
  {
   "cell_type": "code",
   "execution_count": 29,
   "metadata": {},
   "outputs": [],
   "source": [
    "parsed_data=parsed_data[COLUMNS]\n",
    "\n",
    "parsed_data.to_csv('../Dataset/Rev_Parsed.csv',index=False)"
   ]
  },
  {
   "attachments": {},
   "cell_type": "markdown",
   "metadata": {},
   "source": [
    "# Analisi USERS"
   ]
  },
  {
   "cell_type": "code",
   "execution_count": null,
   "metadata": {},
   "outputs": [],
   "source": [
    "users_to_count={}   #user to count \n",
    "data=pd.read_csv('../Dataset/Rev_Parsed.csv')\n",
    "\n"
   ]
  },
  {
   "cell_type": "code",
   "execution_count": null,
   "metadata": {},
   "outputs": [],
   "source": [
    "users=data['UserId']\n",
    "\n",
    "for u in users:\n",
    "    if u not in users_to_count:\n",
    "        users_to_count[u]=0\n",
    "    users_to_count[u]+=1\n",
    "\n"
   ]
  },
  {
   "cell_type": "code",
   "execution_count": null,
   "metadata": {},
   "outputs": [
    {
     "name": "stdout",
     "output_type": "stream",
     "text": [
      "Unique users:  256059\n",
      "Total revs:  568454\n",
      "Ratio rev/users:  2.2200117941568154\n"
     ]
    }
   ],
   "source": [
    "#checking number of unique users\n",
    "\n",
    "\n",
    "#checking the ratio of users for rev\n",
    "ratio_user_rev=len(data)/len(users_to_count)\n",
    "\n",
    "print('Unique users: ',len(users_to_count))\n",
    "print('Total revs: ',len(data))\n",
    "print('Ratio rev/users: ',ratio_user_rev)"
   ]
  },
  {
   "cell_type": "code",
   "execution_count": null,
   "metadata": {},
   "outputs": [
    {
     "data": {
      "text/html": [
       "<div>\n",
       "<style scoped>\n",
       "    .dataframe tbody tr th:only-of-type {\n",
       "        vertical-align: middle;\n",
       "    }\n",
       "\n",
       "    .dataframe tbody tr th {\n",
       "        vertical-align: top;\n",
       "    }\n",
       "\n",
       "    .dataframe thead th {\n",
       "        text-align: right;\n",
       "    }\n",
       "</style>\n",
       "<table border=\"1\" class=\"dataframe\">\n",
       "  <thead>\n",
       "    <tr style=\"text-align: right;\">\n",
       "      <th></th>\n",
       "      <th>ID</th>\n",
       "      <th>#Rev</th>\n",
       "    </tr>\n",
       "  </thead>\n",
       "  <tbody>\n",
       "    <tr>\n",
       "      <th>0</th>\n",
       "      <td>A3OXHLG6DIBRW8</td>\n",
       "      <td>448</td>\n",
       "    </tr>\n",
       "    <tr>\n",
       "      <th>1</th>\n",
       "      <td>A1YUL9PCJR3JTY</td>\n",
       "      <td>421</td>\n",
       "    </tr>\n",
       "    <tr>\n",
       "      <th>2</th>\n",
       "      <td>AY12DBB0U420B</td>\n",
       "      <td>389</td>\n",
       "    </tr>\n",
       "    <tr>\n",
       "      <th>3</th>\n",
       "      <td>A281NPSIMI1C2R</td>\n",
       "      <td>365</td>\n",
       "    </tr>\n",
       "    <tr>\n",
       "      <th>4</th>\n",
       "      <td>A1Z54EM24Y40LL</td>\n",
       "      <td>256</td>\n",
       "    </tr>\n",
       "    <tr>\n",
       "      <th>5</th>\n",
       "      <td>A1TMAVN4CEM8U8</td>\n",
       "      <td>204</td>\n",
       "    </tr>\n",
       "    <tr>\n",
       "      <th>6</th>\n",
       "      <td>A2MUGFV2TDQ47K</td>\n",
       "      <td>201</td>\n",
       "    </tr>\n",
       "    <tr>\n",
       "      <th>7</th>\n",
       "      <td>A3TVZM3ZIXG8YW</td>\n",
       "      <td>199</td>\n",
       "    </tr>\n",
       "    <tr>\n",
       "      <th>8</th>\n",
       "      <td>A3PJZ8TU8FDQ1K</td>\n",
       "      <td>178</td>\n",
       "    </tr>\n",
       "    <tr>\n",
       "      <th>9</th>\n",
       "      <td>AQQLWCMRNDFGI</td>\n",
       "      <td>176</td>\n",
       "    </tr>\n",
       "  </tbody>\n",
       "</table>\n",
       "</div>"
      ],
      "text/plain": [
       "               ID  #Rev\n",
       "0  A3OXHLG6DIBRW8   448\n",
       "1  A1YUL9PCJR3JTY   421\n",
       "2   AY12DBB0U420B   389\n",
       "3  A281NPSIMI1C2R   365\n",
       "4  A1Z54EM24Y40LL   256\n",
       "5  A1TMAVN4CEM8U8   204\n",
       "6  A2MUGFV2TDQ47K   201\n",
       "7  A3TVZM3ZIXG8YW   199\n",
       "8  A3PJZ8TU8FDQ1K   178\n",
       "9   AQQLWCMRNDFGI   176"
      ]
     },
     "execution_count": 49,
     "metadata": {},
     "output_type": "execute_result"
    }
   ],
   "source": [
    "sorted_dict = sorted(users_to_count.items(), key=lambda x: x[1],reverse=True)\n",
    "#creating a dataframe\n",
    "id_to_rev_count=pd.DataFrame(data=sorted_dict,columns=['ID','#Rev'])\n",
    "id_to_rev_count.head(10)\n",
    "\n",
    "\n"
   ]
  },
  {
   "attachments": {},
   "cell_type": "markdown",
   "metadata": {},
   "source": [
    "# Job 2\n",
    "### Checking if reviews have 0 HelpfulnessDenominator\n"
   ]
  },
  {
   "cell_type": "code",
   "execution_count": 8,
   "metadata": {},
   "outputs": [
    {
     "data": {
      "text/plain": [
       "0"
      ]
     },
     "execution_count": 8,
     "metadata": {},
     "output_type": "execute_result"
    }
   ],
   "source": [
    "data=pd.read_csv('../Dataset/Rev_Parsed.csv')\n",
    "\n",
    "helpfulness=data[['UserId','HelpfulnessDenominator','HelpfulnessNumerator']]\n",
    "\n",
    "check_help=helpfulness[helpfulness['HelpfulnessDenominator']==0]\n",
    "\n",
    "check_help_all=check_help[check_help['HelpfulnessDenominator']!=check_help['HelpfulnessNumerator']]\n",
    "\n",
    "len(check_help_all)"
   ]
  },
  {
   "cell_type": "code",
   "execution_count": 9,
   "metadata": {},
   "outputs": [
    {
     "data": {
      "text/plain": [
       "448"
      ]
     },
     "execution_count": 9,
     "metadata": {},
     "output_type": "execute_result"
    }
   ],
   "source": [
    "maxim=len(data[data['UserId']=='A3OXHLG6DIBRW8'])\n",
    "maxim"
   ]
  }
 ],
 "metadata": {
  "kernelspec": {
   "display_name": "Python 3",
   "language": "python",
   "name": "python3"
  },
  "language_info": {
   "codemirror_mode": {
    "name": "ipython",
    "version": 3
   },
   "file_extension": ".py",
   "mimetype": "text/x-python",
   "name": "python",
   "nbconvert_exporter": "python",
   "pygments_lexer": "ipython3",
   "version": "3.10.6"
  },
  "orig_nbformat": 4
 },
 "nbformat": 4,
 "nbformat_minor": 2
}
